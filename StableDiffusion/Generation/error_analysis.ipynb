{
 "cells": [
  {
   "cell_type": "code",
   "execution_count": 1,
   "metadata": {},
   "outputs": [
    {
     "name": "stderr",
     "output_type": "stream",
     "text": [
      "/home/fgirlanda/.local/lib/python3.10/site-packages/tqdm/auto.py:22: TqdmWarning: IProgress not found. Please update jupyter and ipywidgets. See https://ipywidgets.readthedocs.io/en/stable/user_install.html\n",
      "  from .autonotebook import tqdm as notebook_tqdm\n"
     ]
    }
   ],
   "source": [
    "import numpy as np\n",
    "import os\n",
    "import torch\n",
    "from torchvision import transforms\n",
    "from tqdm import tqdm\n",
    "\n",
    "import pandas as pd\n",
    "import PIL\n",
    "\n",
    "import matplotlib.pyplot as plt\n"
   ]
  },
  {
   "cell_type": "code",
   "execution_count": 2,
   "metadata": {},
   "outputs": [],
   "source": [
    "sd_version = '2_1'\n",
    "pretrained_model = 'laion2b_s34b_b79k'\n",
    "path_image_tensors = '../sd_' + sd_version + '_' + pretrained_model + '_ViT-B-32.pt'"
   ]
  },
  {
   "cell_type": "code",
   "execution_count": 3,
   "metadata": {},
   "outputs": [],
   "source": [
    "import open_clip\n",
    "from open_clip import tokenizer\n",
    "model, _, preprocess = open_clip.create_model_and_transforms('ViT-B-32', pretrained=pretrained_model)"
   ]
  },
  {
   "cell_type": "code",
   "execution_count": 4,
   "metadata": {},
   "outputs": [
    {
     "name": "stdout",
     "output_type": "stream",
     "text": [
      "3735\n"
     ]
    }
   ],
   "source": [
    "data1 = []\n",
    "# change the image folders here\n",
    "path = \"../\" + sd_version + \"/\"\n",
    "number_of_images = len(os.listdir(path))\n",
    "print(number_of_images)\n",
    "for i in range(number_of_images):\n",
    "    img = PIL.Image.open(path + str(i) + \".png\")\n",
    "    data1.append(img)\n",
    "    "
   ]
  },
  {
   "cell_type": "code",
   "execution_count": 5,
   "metadata": {},
   "outputs": [
    {
     "name": "stdout",
     "output_type": "stream",
     "text": [
      "3735\n"
     ]
    }
   ],
   "source": [
    "data2 = []\n",
    "# change the image folders here\n",
    "path = \"../historic_\" + sd_version + \"_v2/\"\n",
    "number_of_images = len(os.listdir(path))\n",
    "print(number_of_images)\n",
    "for i in range(number_of_images):\n",
    "    img = PIL.Image.open(path + str(i) + \".png\")\n",
    "    data2.append(img)\n",
    "    "
   ]
  },
  {
   "cell_type": "code",
   "execution_count": 6,
   "metadata": {},
   "outputs": [],
   "source": [
    "#concat array data1 and data2\n",
    "data = data1 + data2"
   ]
  },
  {
   "cell_type": "code",
   "execution_count": 7,
   "metadata": {},
   "outputs": [
    {
     "data": {
      "text/plain": [
       "7470"
      ]
     },
     "execution_count": 7,
     "metadata": {},
     "output_type": "execute_result"
    }
   ],
   "source": [
    "len(data)"
   ]
  },
  {
   "cell_type": "code",
   "execution_count": 8,
   "metadata": {},
   "outputs": [
    {
     "data": {
      "text/plain": [
       "CLIP(\n",
       "  (visual): VisionTransformer(\n",
       "    (patchnorm_pre_ln): Identity()\n",
       "    (conv1): Conv2d(3, 768, kernel_size=(32, 32), stride=(32, 32), bias=False)\n",
       "    (patch_dropout): Identity()\n",
       "    (ln_pre): LayerNorm((768,), eps=1e-05, elementwise_affine=True)\n",
       "    (transformer): Transformer(\n",
       "      (resblocks): ModuleList(\n",
       "        (0): ResidualAttentionBlock(\n",
       "          (ln_1): LayerNorm((768,), eps=1e-05, elementwise_affine=True)\n",
       "          (attn): MultiheadAttention(\n",
       "            (out_proj): NonDynamicallyQuantizableLinear(in_features=768, out_features=768, bias=True)\n",
       "          )\n",
       "          (ls_1): Identity()\n",
       "          (ln_2): LayerNorm((768,), eps=1e-05, elementwise_affine=True)\n",
       "          (mlp): Sequential(\n",
       "            (c_fc): Linear(in_features=768, out_features=3072, bias=True)\n",
       "            (gelu): GELU(approximate='none')\n",
       "            (c_proj): Linear(in_features=3072, out_features=768, bias=True)\n",
       "          )\n",
       "          (ls_2): Identity()\n",
       "        )\n",
       "        (1): ResidualAttentionBlock(\n",
       "          (ln_1): LayerNorm((768,), eps=1e-05, elementwise_affine=True)\n",
       "          (attn): MultiheadAttention(\n",
       "            (out_proj): NonDynamicallyQuantizableLinear(in_features=768, out_features=768, bias=True)\n",
       "          )\n",
       "          (ls_1): Identity()\n",
       "          (ln_2): LayerNorm((768,), eps=1e-05, elementwise_affine=True)\n",
       "          (mlp): Sequential(\n",
       "            (c_fc): Linear(in_features=768, out_features=3072, bias=True)\n",
       "            (gelu): GELU(approximate='none')\n",
       "            (c_proj): Linear(in_features=3072, out_features=768, bias=True)\n",
       "          )\n",
       "          (ls_2): Identity()\n",
       "        )\n",
       "        (2): ResidualAttentionBlock(\n",
       "          (ln_1): LayerNorm((768,), eps=1e-05, elementwise_affine=True)\n",
       "          (attn): MultiheadAttention(\n",
       "            (out_proj): NonDynamicallyQuantizableLinear(in_features=768, out_features=768, bias=True)\n",
       "          )\n",
       "          (ls_1): Identity()\n",
       "          (ln_2): LayerNorm((768,), eps=1e-05, elementwise_affine=True)\n",
       "          (mlp): Sequential(\n",
       "            (c_fc): Linear(in_features=768, out_features=3072, bias=True)\n",
       "            (gelu): GELU(approximate='none')\n",
       "            (c_proj): Linear(in_features=3072, out_features=768, bias=True)\n",
       "          )\n",
       "          (ls_2): Identity()\n",
       "        )\n",
       "        (3): ResidualAttentionBlock(\n",
       "          (ln_1): LayerNorm((768,), eps=1e-05, elementwise_affine=True)\n",
       "          (attn): MultiheadAttention(\n",
       "            (out_proj): NonDynamicallyQuantizableLinear(in_features=768, out_features=768, bias=True)\n",
       "          )\n",
       "          (ls_1): Identity()\n",
       "          (ln_2): LayerNorm((768,), eps=1e-05, elementwise_affine=True)\n",
       "          (mlp): Sequential(\n",
       "            (c_fc): Linear(in_features=768, out_features=3072, bias=True)\n",
       "            (gelu): GELU(approximate='none')\n",
       "            (c_proj): Linear(in_features=3072, out_features=768, bias=True)\n",
       "          )\n",
       "          (ls_2): Identity()\n",
       "        )\n",
       "        (4): ResidualAttentionBlock(\n",
       "          (ln_1): LayerNorm((768,), eps=1e-05, elementwise_affine=True)\n",
       "          (attn): MultiheadAttention(\n",
       "            (out_proj): NonDynamicallyQuantizableLinear(in_features=768, out_features=768, bias=True)\n",
       "          )\n",
       "          (ls_1): Identity()\n",
       "          (ln_2): LayerNorm((768,), eps=1e-05, elementwise_affine=True)\n",
       "          (mlp): Sequential(\n",
       "            (c_fc): Linear(in_features=768, out_features=3072, bias=True)\n",
       "            (gelu): GELU(approximate='none')\n",
       "            (c_proj): Linear(in_features=3072, out_features=768, bias=True)\n",
       "          )\n",
       "          (ls_2): Identity()\n",
       "        )\n",
       "        (5): ResidualAttentionBlock(\n",
       "          (ln_1): LayerNorm((768,), eps=1e-05, elementwise_affine=True)\n",
       "          (attn): MultiheadAttention(\n",
       "            (out_proj): NonDynamicallyQuantizableLinear(in_features=768, out_features=768, bias=True)\n",
       "          )\n",
       "          (ls_1): Identity()\n",
       "          (ln_2): LayerNorm((768,), eps=1e-05, elementwise_affine=True)\n",
       "          (mlp): Sequential(\n",
       "            (c_fc): Linear(in_features=768, out_features=3072, bias=True)\n",
       "            (gelu): GELU(approximate='none')\n",
       "            (c_proj): Linear(in_features=3072, out_features=768, bias=True)\n",
       "          )\n",
       "          (ls_2): Identity()\n",
       "        )\n",
       "        (6): ResidualAttentionBlock(\n",
       "          (ln_1): LayerNorm((768,), eps=1e-05, elementwise_affine=True)\n",
       "          (attn): MultiheadAttention(\n",
       "            (out_proj): NonDynamicallyQuantizableLinear(in_features=768, out_features=768, bias=True)\n",
       "          )\n",
       "          (ls_1): Identity()\n",
       "          (ln_2): LayerNorm((768,), eps=1e-05, elementwise_affine=True)\n",
       "          (mlp): Sequential(\n",
       "            (c_fc): Linear(in_features=768, out_features=3072, bias=True)\n",
       "            (gelu): GELU(approximate='none')\n",
       "            (c_proj): Linear(in_features=3072, out_features=768, bias=True)\n",
       "          )\n",
       "          (ls_2): Identity()\n",
       "        )\n",
       "        (7): ResidualAttentionBlock(\n",
       "          (ln_1): LayerNorm((768,), eps=1e-05, elementwise_affine=True)\n",
       "          (attn): MultiheadAttention(\n",
       "            (out_proj): NonDynamicallyQuantizableLinear(in_features=768, out_features=768, bias=True)\n",
       "          )\n",
       "          (ls_1): Identity()\n",
       "          (ln_2): LayerNorm((768,), eps=1e-05, elementwise_affine=True)\n",
       "          (mlp): Sequential(\n",
       "            (c_fc): Linear(in_features=768, out_features=3072, bias=True)\n",
       "            (gelu): GELU(approximate='none')\n",
       "            (c_proj): Linear(in_features=3072, out_features=768, bias=True)\n",
       "          )\n",
       "          (ls_2): Identity()\n",
       "        )\n",
       "        (8): ResidualAttentionBlock(\n",
       "          (ln_1): LayerNorm((768,), eps=1e-05, elementwise_affine=True)\n",
       "          (attn): MultiheadAttention(\n",
       "            (out_proj): NonDynamicallyQuantizableLinear(in_features=768, out_features=768, bias=True)\n",
       "          )\n",
       "          (ls_1): Identity()\n",
       "          (ln_2): LayerNorm((768,), eps=1e-05, elementwise_affine=True)\n",
       "          (mlp): Sequential(\n",
       "            (c_fc): Linear(in_features=768, out_features=3072, bias=True)\n",
       "            (gelu): GELU(approximate='none')\n",
       "            (c_proj): Linear(in_features=3072, out_features=768, bias=True)\n",
       "          )\n",
       "          (ls_2): Identity()\n",
       "        )\n",
       "        (9): ResidualAttentionBlock(\n",
       "          (ln_1): LayerNorm((768,), eps=1e-05, elementwise_affine=True)\n",
       "          (attn): MultiheadAttention(\n",
       "            (out_proj): NonDynamicallyQuantizableLinear(in_features=768, out_features=768, bias=True)\n",
       "          )\n",
       "          (ls_1): Identity()\n",
       "          (ln_2): LayerNorm((768,), eps=1e-05, elementwise_affine=True)\n",
       "          (mlp): Sequential(\n",
       "            (c_fc): Linear(in_features=768, out_features=3072, bias=True)\n",
       "            (gelu): GELU(approximate='none')\n",
       "            (c_proj): Linear(in_features=3072, out_features=768, bias=True)\n",
       "          )\n",
       "          (ls_2): Identity()\n",
       "        )\n",
       "        (10): ResidualAttentionBlock(\n",
       "          (ln_1): LayerNorm((768,), eps=1e-05, elementwise_affine=True)\n",
       "          (attn): MultiheadAttention(\n",
       "            (out_proj): NonDynamicallyQuantizableLinear(in_features=768, out_features=768, bias=True)\n",
       "          )\n",
       "          (ls_1): Identity()\n",
       "          (ln_2): LayerNorm((768,), eps=1e-05, elementwise_affine=True)\n",
       "          (mlp): Sequential(\n",
       "            (c_fc): Linear(in_features=768, out_features=3072, bias=True)\n",
       "            (gelu): GELU(approximate='none')\n",
       "            (c_proj): Linear(in_features=3072, out_features=768, bias=True)\n",
       "          )\n",
       "          (ls_2): Identity()\n",
       "        )\n",
       "        (11): ResidualAttentionBlock(\n",
       "          (ln_1): LayerNorm((768,), eps=1e-05, elementwise_affine=True)\n",
       "          (attn): MultiheadAttention(\n",
       "            (out_proj): NonDynamicallyQuantizableLinear(in_features=768, out_features=768, bias=True)\n",
       "          )\n",
       "          (ls_1): Identity()\n",
       "          (ln_2): LayerNorm((768,), eps=1e-05, elementwise_affine=True)\n",
       "          (mlp): Sequential(\n",
       "            (c_fc): Linear(in_features=768, out_features=3072, bias=True)\n",
       "            (gelu): GELU(approximate='none')\n",
       "            (c_proj): Linear(in_features=3072, out_features=768, bias=True)\n",
       "          )\n",
       "          (ls_2): Identity()\n",
       "        )\n",
       "      )\n",
       "    )\n",
       "    (ln_post): LayerNorm((768,), eps=1e-05, elementwise_affine=True)\n",
       "  )\n",
       "  (transformer): Transformer(\n",
       "    (resblocks): ModuleList(\n",
       "      (0): ResidualAttentionBlock(\n",
       "        (ln_1): LayerNorm((512,), eps=1e-05, elementwise_affine=True)\n",
       "        (attn): MultiheadAttention(\n",
       "          (out_proj): NonDynamicallyQuantizableLinear(in_features=512, out_features=512, bias=True)\n",
       "        )\n",
       "        (ls_1): Identity()\n",
       "        (ln_2): LayerNorm((512,), eps=1e-05, elementwise_affine=True)\n",
       "        (mlp): Sequential(\n",
       "          (c_fc): Linear(in_features=512, out_features=2048, bias=True)\n",
       "          (gelu): GELU(approximate='none')\n",
       "          (c_proj): Linear(in_features=2048, out_features=512, bias=True)\n",
       "        )\n",
       "        (ls_2): Identity()\n",
       "      )\n",
       "      (1): ResidualAttentionBlock(\n",
       "        (ln_1): LayerNorm((512,), eps=1e-05, elementwise_affine=True)\n",
       "        (attn): MultiheadAttention(\n",
       "          (out_proj): NonDynamicallyQuantizableLinear(in_features=512, out_features=512, bias=True)\n",
       "        )\n",
       "        (ls_1): Identity()\n",
       "        (ln_2): LayerNorm((512,), eps=1e-05, elementwise_affine=True)\n",
       "        (mlp): Sequential(\n",
       "          (c_fc): Linear(in_features=512, out_features=2048, bias=True)\n",
       "          (gelu): GELU(approximate='none')\n",
       "          (c_proj): Linear(in_features=2048, out_features=512, bias=True)\n",
       "        )\n",
       "        (ls_2): Identity()\n",
       "      )\n",
       "      (2): ResidualAttentionBlock(\n",
       "        (ln_1): LayerNorm((512,), eps=1e-05, elementwise_affine=True)\n",
       "        (attn): MultiheadAttention(\n",
       "          (out_proj): NonDynamicallyQuantizableLinear(in_features=512, out_features=512, bias=True)\n",
       "        )\n",
       "        (ls_1): Identity()\n",
       "        (ln_2): LayerNorm((512,), eps=1e-05, elementwise_affine=True)\n",
       "        (mlp): Sequential(\n",
       "          (c_fc): Linear(in_features=512, out_features=2048, bias=True)\n",
       "          (gelu): GELU(approximate='none')\n",
       "          (c_proj): Linear(in_features=2048, out_features=512, bias=True)\n",
       "        )\n",
       "        (ls_2): Identity()\n",
       "      )\n",
       "      (3): ResidualAttentionBlock(\n",
       "        (ln_1): LayerNorm((512,), eps=1e-05, elementwise_affine=True)\n",
       "        (attn): MultiheadAttention(\n",
       "          (out_proj): NonDynamicallyQuantizableLinear(in_features=512, out_features=512, bias=True)\n",
       "        )\n",
       "        (ls_1): Identity()\n",
       "        (ln_2): LayerNorm((512,), eps=1e-05, elementwise_affine=True)\n",
       "        (mlp): Sequential(\n",
       "          (c_fc): Linear(in_features=512, out_features=2048, bias=True)\n",
       "          (gelu): GELU(approximate='none')\n",
       "          (c_proj): Linear(in_features=2048, out_features=512, bias=True)\n",
       "        )\n",
       "        (ls_2): Identity()\n",
       "      )\n",
       "      (4): ResidualAttentionBlock(\n",
       "        (ln_1): LayerNorm((512,), eps=1e-05, elementwise_affine=True)\n",
       "        (attn): MultiheadAttention(\n",
       "          (out_proj): NonDynamicallyQuantizableLinear(in_features=512, out_features=512, bias=True)\n",
       "        )\n",
       "        (ls_1): Identity()\n",
       "        (ln_2): LayerNorm((512,), eps=1e-05, elementwise_affine=True)\n",
       "        (mlp): Sequential(\n",
       "          (c_fc): Linear(in_features=512, out_features=2048, bias=True)\n",
       "          (gelu): GELU(approximate='none')\n",
       "          (c_proj): Linear(in_features=2048, out_features=512, bias=True)\n",
       "        )\n",
       "        (ls_2): Identity()\n",
       "      )\n",
       "      (5): ResidualAttentionBlock(\n",
       "        (ln_1): LayerNorm((512,), eps=1e-05, elementwise_affine=True)\n",
       "        (attn): MultiheadAttention(\n",
       "          (out_proj): NonDynamicallyQuantizableLinear(in_features=512, out_features=512, bias=True)\n",
       "        )\n",
       "        (ls_1): Identity()\n",
       "        (ln_2): LayerNorm((512,), eps=1e-05, elementwise_affine=True)\n",
       "        (mlp): Sequential(\n",
       "          (c_fc): Linear(in_features=512, out_features=2048, bias=True)\n",
       "          (gelu): GELU(approximate='none')\n",
       "          (c_proj): Linear(in_features=2048, out_features=512, bias=True)\n",
       "        )\n",
       "        (ls_2): Identity()\n",
       "      )\n",
       "      (6): ResidualAttentionBlock(\n",
       "        (ln_1): LayerNorm((512,), eps=1e-05, elementwise_affine=True)\n",
       "        (attn): MultiheadAttention(\n",
       "          (out_proj): NonDynamicallyQuantizableLinear(in_features=512, out_features=512, bias=True)\n",
       "        )\n",
       "        (ls_1): Identity()\n",
       "        (ln_2): LayerNorm((512,), eps=1e-05, elementwise_affine=True)\n",
       "        (mlp): Sequential(\n",
       "          (c_fc): Linear(in_features=512, out_features=2048, bias=True)\n",
       "          (gelu): GELU(approximate='none')\n",
       "          (c_proj): Linear(in_features=2048, out_features=512, bias=True)\n",
       "        )\n",
       "        (ls_2): Identity()\n",
       "      )\n",
       "      (7): ResidualAttentionBlock(\n",
       "        (ln_1): LayerNorm((512,), eps=1e-05, elementwise_affine=True)\n",
       "        (attn): MultiheadAttention(\n",
       "          (out_proj): NonDynamicallyQuantizableLinear(in_features=512, out_features=512, bias=True)\n",
       "        )\n",
       "        (ls_1): Identity()\n",
       "        (ln_2): LayerNorm((512,), eps=1e-05, elementwise_affine=True)\n",
       "        (mlp): Sequential(\n",
       "          (c_fc): Linear(in_features=512, out_features=2048, bias=True)\n",
       "          (gelu): GELU(approximate='none')\n",
       "          (c_proj): Linear(in_features=2048, out_features=512, bias=True)\n",
       "        )\n",
       "        (ls_2): Identity()\n",
       "      )\n",
       "      (8): ResidualAttentionBlock(\n",
       "        (ln_1): LayerNorm((512,), eps=1e-05, elementwise_affine=True)\n",
       "        (attn): MultiheadAttention(\n",
       "          (out_proj): NonDynamicallyQuantizableLinear(in_features=512, out_features=512, bias=True)\n",
       "        )\n",
       "        (ls_1): Identity()\n",
       "        (ln_2): LayerNorm((512,), eps=1e-05, elementwise_affine=True)\n",
       "        (mlp): Sequential(\n",
       "          (c_fc): Linear(in_features=512, out_features=2048, bias=True)\n",
       "          (gelu): GELU(approximate='none')\n",
       "          (c_proj): Linear(in_features=2048, out_features=512, bias=True)\n",
       "        )\n",
       "        (ls_2): Identity()\n",
       "      )\n",
       "      (9): ResidualAttentionBlock(\n",
       "        (ln_1): LayerNorm((512,), eps=1e-05, elementwise_affine=True)\n",
       "        (attn): MultiheadAttention(\n",
       "          (out_proj): NonDynamicallyQuantizableLinear(in_features=512, out_features=512, bias=True)\n",
       "        )\n",
       "        (ls_1): Identity()\n",
       "        (ln_2): LayerNorm((512,), eps=1e-05, elementwise_affine=True)\n",
       "        (mlp): Sequential(\n",
       "          (c_fc): Linear(in_features=512, out_features=2048, bias=True)\n",
       "          (gelu): GELU(approximate='none')\n",
       "          (c_proj): Linear(in_features=2048, out_features=512, bias=True)\n",
       "        )\n",
       "        (ls_2): Identity()\n",
       "      )\n",
       "      (10): ResidualAttentionBlock(\n",
       "        (ln_1): LayerNorm((512,), eps=1e-05, elementwise_affine=True)\n",
       "        (attn): MultiheadAttention(\n",
       "          (out_proj): NonDynamicallyQuantizableLinear(in_features=512, out_features=512, bias=True)\n",
       "        )\n",
       "        (ls_1): Identity()\n",
       "        (ln_2): LayerNorm((512,), eps=1e-05, elementwise_affine=True)\n",
       "        (mlp): Sequential(\n",
       "          (c_fc): Linear(in_features=512, out_features=2048, bias=True)\n",
       "          (gelu): GELU(approximate='none')\n",
       "          (c_proj): Linear(in_features=2048, out_features=512, bias=True)\n",
       "        )\n",
       "        (ls_2): Identity()\n",
       "      )\n",
       "      (11): ResidualAttentionBlock(\n",
       "        (ln_1): LayerNorm((512,), eps=1e-05, elementwise_affine=True)\n",
       "        (attn): MultiheadAttention(\n",
       "          (out_proj): NonDynamicallyQuantizableLinear(in_features=512, out_features=512, bias=True)\n",
       "        )\n",
       "        (ls_1): Identity()\n",
       "        (ln_2): LayerNorm((512,), eps=1e-05, elementwise_affine=True)\n",
       "        (mlp): Sequential(\n",
       "          (c_fc): Linear(in_features=512, out_features=2048, bias=True)\n",
       "          (gelu): GELU(approximate='none')\n",
       "          (c_proj): Linear(in_features=2048, out_features=512, bias=True)\n",
       "        )\n",
       "        (ls_2): Identity()\n",
       "      )\n",
       "    )\n",
       "  )\n",
       "  (token_embedding): Embedding(49408, 512)\n",
       "  (ln_final): LayerNorm((512,), eps=1e-05, elementwise_affine=True)\n",
       ")"
      ]
     },
     "execution_count": 8,
     "metadata": {},
     "output_type": "execute_result"
    }
   ],
   "source": [
    "device = torch.device('cuda')\n",
    "model.to(device)"
   ]
  },
  {
   "cell_type": "code",
   "execution_count": 9,
   "metadata": {},
   "outputs": [
    {
     "name": "stderr",
     "output_type": "stream",
     "text": [
      "100%|██████████| 15/15 [02:49<00:00, 11.28s/it]\n"
     ]
    }
   ],
   "source": [
    "image_features = []\n",
    "batch_size = 512\n",
    "\n",
    "with torch.no_grad():\n",
    "    for i in tqdm(range(0, len(data), batch_size)):\n",
    "        batch = []\n",
    "        for j in range(i, min(i+batch_size, len(data))):\n",
    "            img = data[j]\n",
    "            img = preprocess(img)\n",
    "            batch.append(img)\n",
    "    \n",
    "        batch = torch.tensor(np.stack(batch))\n",
    "        batch = batch.to(device)\n",
    "        img_feats = model.encode_image(batch).float()\n",
    "        image_features.append(img_feats)\n",
    "image_features_torch = torch.concatenate(image_features).cpu()"
   ]
  },
  {
   "cell_type": "code",
   "execution_count": 10,
   "metadata": {},
   "outputs": [],
   "source": [
    "del data\n",
    "del data1\n",
    "del data2"
   ]
  },
  {
   "cell_type": "code",
   "execution_count": 11,
   "metadata": {},
   "outputs": [
    {
     "name": "stdout",
     "output_type": "stream",
     "text": [
      "(3735, 5)\n"
     ]
    }
   ],
   "source": [
    "# read csv file\n",
    "import pandas as pd\n",
    "df = pd.read_csv('../gen_images_'+sd_version+'.csv')\n",
    "df.head()\n",
    "\n",
    "print(df.shape)"
   ]
  },
  {
   "cell_type": "code",
   "execution_count": 12,
   "metadata": {},
   "outputs": [
    {
     "name": "stdout",
     "output_type": "stream",
     "text": [
      "(7470, 5)\n"
     ]
    }
   ],
   "source": [
    "df2 = pd.read_csv('../gen_images_historic_'+sd_version+'_v2.csv')\n",
    "#concat \n",
    "df = pd.concat([df, df2])\n",
    "print(df.shape)"
   ]
  },
  {
   "cell_type": "code",
   "execution_count": 13,
   "metadata": {},
   "outputs": [],
   "source": [
    "artists = df['artist'].unique()\n",
    "text_features = []\n",
    "\n",
    "with torch.no_grad():\n",
    "    for artist in artists:\n",
    "        prompt = \"The following work is done in the style of \" + artist\n",
    "        text_tokens = tokenizer.tokenize(prompt)\n",
    "        text_tokens = text_tokens.to(device)\n",
    "        txt_feat = model.encode_text(text_tokens).float()\n",
    "        text_features.append(txt_feat)\n",
    "text_features_torch = torch.concatenate(text_features).cpu()"
   ]
  },
  {
   "cell_type": "code",
   "execution_count": 14,
   "metadata": {},
   "outputs": [],
   "source": [
    "idx2artist = {}\n",
    "artist2idx = {}\n",
    "for i, artist in enumerate(artists):\n",
    "    idx2artist[i] = artist\n",
    "    artist2idx[artist] = i"
   ]
  },
  {
   "cell_type": "code",
   "execution_count": 15,
   "metadata": {},
   "outputs": [],
   "source": [
    "image_features_torch /= image_features_torch.norm(dim=-1, keepdim=True)\n",
    "text_features_torch /= text_features_torch.norm(dim=-1, keepdim=True)\n",
    "\n",
    "text_probs = (100.0 * image_features_torch @ text_features_torch.T).softmax(dim=-1)\n",
    "top_probs, top_k_labels = text_probs.cpu().topk(5, dim=-1)"
   ]
  },
  {
   "cell_type": "code",
   "execution_count": 16,
   "metadata": {},
   "outputs": [
    {
     "name": "stdout",
     "output_type": "stream",
     "text": [
      "torch.Size([7470]) torch.Size([7470])\n",
      "Top 1 score is 5.86\n",
      "Top 5 score is 17.05\n"
     ]
    }
   ],
   "source": [
    "gt_labels = torch.tensor([artist2idx[x] for x in df['artist'].to_list()])\n",
    "\n",
    "top_one_labels = top_k_labels[:, 0]\n",
    "\n",
    "print(gt_labels.shape, top_one_labels.shape)\n",
    "\n",
    "correct = (gt_labels == top_one_labels).sum()\n",
    "print(f\"Top 1 score is {round((correct / gt_labels.shape[0]).item() * 100, 2)}\")\n",
    "\n",
    "\n",
    "topk_correct = 0\n",
    "for i in range(5):\n",
    "    top_one_labels = top_k_labels[:, i]\n",
    "    correct = (gt_labels == top_one_labels).sum()\n",
    "    topk_correct += correct\n",
    "print(f\"Top 5 score is {round((topk_correct / gt_labels.shape[0]).item() * 100, 2)}\")\n",
    "# correct = (gt_labels.repeat() == top_k_labels).sum()\n",
    "# print(correct)"
   ]
  },
  {
   "cell_type": "code",
   "execution_count": 17,
   "metadata": {},
   "outputs": [
    {
     "name": "stdout",
     "output_type": "stream",
     "text": [
      "{'Vincent van Gogh': 3.3333333333333335, 'Claude Monet': 0.0, 'Rembrandt': 0.0, 'Raphael': 0.0, 'Paul Cézanne': 3.3333333333333335, 'Albrecht Dürer': 0.0, 'Paul Gauguin': 0.0, 'Gustav Klimt': 10.0, 'Francisco Goya': 0.0, 'Pierre-Auguste Renoir': 0.0, 'Peter Paul Rubens': 0.0, 'Auguste Rodin': 0.0, 'Frida Kahlo': 3.3333333333333335, 'Titian': 0.0, 'Edgar Degas': 0.0, 'Édouard Manet': 6.666666666666667, 'Edvard Munch': 3.3333333333333335, 'Diego Rivera': 6.666666666666667, 'Eugène Delacroix': 3.3333333333333335, 'Henri de Toulouse-Lautrec': 0.0, 'William Blake': 0.0, 'Paul Klee': 3.3333333333333335, 'El Greco': 0.0, 'Sandro Botticelli': 0.0, 'J. M. W. Turner': 0.0, 'Osamu Tezuka': 3.3333333333333335, 'Gustave Courbet': 0.0, 'Hokusai': 6.666666666666667, 'Camille Pissarro': 0.0, 'Giorgio Vasari': 0.0, 'Michelangelo': 0.0, 'Leonardo da Vinci': 0.0, 'Egon Schiele': 3.3333333333333335, 'JR': 3.3333333333333335, \"Georgia O'Keeffe\": 3.3333333333333335, 'Hiroshige': 0.0, 'Tintoretto': 0.0, 'Anthony van Dyck': 0.0, 'John Singer Sargent': 0.0, 'Amedeo Modigliani': 0.0, 'Fernando Botero': 6.666666666666667, 'Nicolas Poussin': 0.0, 'Paolo Veronese': 0.0, 'Norman Rockwell': 0.0, 'Joaquín Sorolla': 0.0, 'Jean-Baptiste-Camille Corot': 3.3333333333333335, 'Lucas Cranach the Elder': 6.666666666666667, 'Utagawa Kuniyoshi': 3.3333333333333335, 'Mary Cassatt': 0.0, 'François Boucher': 0.0, 'Hans Holbein the Younger': 0.0, 'Caspar David Friedrich': 3.3333333333333335, 'Zhao Mengfu': 0.0, 'John Constable': 0.0, 'Nicholas Roerich': 6.666666666666667, 'Dante Gabriel Rossetti': 0.0, 'Shepard Fairey': 0.0, 'Wassily Kandinsky': 0.0, 'Giovanni Battista Tiepolo': 0.0, 'Ernst Ludwig Kirchner': 3.3333333333333335, 'Honoré Daumier': 0.0, 'Alfred Sisley': 3.3333333333333335, 'Johannes Vermeer': 0.0, 'Odilon Redon': 6.666666666666667, 'William Hogarth': 0.0, 'James Abbott McNeill Whistler': 3.3333333333333335, 'Canaletto': 0.0, 'Georges Seurat': 3.3333333333333335, 'Guido Reni': 0.0, 'Paul Signac': 0.0, 'Pieter Bruegel the Elder': 3.3333333333333335, 'Bartolomé Esteban Murillo': 0.0, 'Jean-Honoré Fragonard': 0.0, 'Jean-François Millet': 0.0, 'Francisco de Zurbarán': 0.0, 'Thomas Gainsborough': 10.0, 'René Lalique': 0.0, 'Utamaro': 0.0, 'Yoshitoshi': 10.0, 'Winslow Homer': 6.666666666666667, 'Mario Testino': 3.3333333333333335, 'Joshua Reynolds': 0.0, 'Edward Burne-Jones': 0.0, 'Louis Comfort Tiffany': 3.3333333333333335, 'Annibale Carracci': 0.0, 'Diego Velázquez': 0.0, 'Giorgio de Chirico': 0.0, 'Claude Lorrain': 0.0, 'Wen Zhengming': 0.0, 'Caravaggio': 0.0, 'Kunisada': 3.3333333333333335, 'Juan Gris': 6.666666666666667, 'Eadweard Muybridge': 0.0, 'Édouard Vuillard': 6.666666666666667, 'Jacques-Louis David': 3.3333333333333335, 'Berthe Morisot': 0.0, 'Bertel Thorvaldsen': 0.0, 'Alfred Stieglitz': 3.3333333333333335, 'Sol LeWitt': 0.0, 'Shitao': 0.0, 'Victor Vasarely': 0.0, 'Jean Auguste Dominique Ingres': 0.0, 'Ogata Kōrin': 3.3333333333333335, 'Eugène Atget': 13.333333333333334, 'Eugène Boudin': 0.0, 'Henry Fuseli': 0.0, 'Frederic Remington': 0.0, 'Jean-Antoine Watteau': 3.3333333333333335, 'Gim Hongdo': 3.3333333333333335, 'Kara Walker': 3.3333333333333335, 'Bada Shanren': 3.3333333333333335, 'Henri Rousseau': 6.666666666666667, 'Albert Bierstadt': 13.333333333333334, 'Gordon Parks': 3.3333333333333335, 'Kenny Scharf': 0.0, 'Luca Giordano': 0.0, 'Chang Dai-chien': 0.0, 'Edward Lear': 0.0, 'Bronzino': 0.0, 'Henry Fox Talbot': 0.0, 'Lucio Fontana': 10.0, 'Gian Lorenzo Bernini': 0.0, 'L. S. Lowry': 0.0, 'John Everett Millais': 3.3333333333333335, 'Edward Hopper': 3.3333333333333335, 'Giovanni Bellini': 3.3333333333333335, 'Lovis Corinth': 0.0, 'Fornasetti': 3.3333333333333335, 'Franz Marc': 3.3333333333333335, 'Tawaraya Sōtatsu': 0.0, 'Jusepe de Ribera': 0.0, 'Yokoyama Taikan': 10.0, 'Peder Severin Krøyer': 13.333333333333334, 'Emily Carr': 0.0, 'Childe Hassam': 0.0, 'Anders Zorn': 3.3333333333333335, 'David Teniers the Younger': 0.0, 'Guercino': 3.3333333333333335, 'Gustave Moreau': 3.3333333333333335, 'Thomas Eakins': 0.0, 'Qiu Ying': 3.3333333333333335, 'Alfred Eisenstaedt': 6.666666666666667, 'Frederic Edwin Church': 3.3333333333333335, 'Kawanabe Kyōsai': 0.0, 'Maruyama Ōkyo': 6.666666666666667, 'Benjamin West': 0.0, 'Émile Gallé': 0.0, 'Charles-François Daubigny': 3.3333333333333335, 'Ramon Casas': 0.0, 'Andrea Mantegna': 3.3333333333333335, 'Dong Qichang': 0.0, 'Jean-Baptiste-Siméon Chardin': 0.0, 'Julia Margaret Cameron': 0.0, 'Harunobu Suzuki': 0.0, 'Hubert Robert': 0.0, 'Santiago Rusiñol': 0.0, 'Hieronymus Bosch': 6.666666666666667, 'Hiroshi Yoshida': 3.3333333333333335, 'Jeong Seon': 0.0, 'Antonio Canova': 3.3333333333333335, 'Max Klinger': 3.3333333333333335, 'Ma Yuan': 0.0, 'Sin Yun-bok': 0.0, 'Marcel Broodthaers': 0.0, 'Frederic Leighton': 6.666666666666667, 'Utagawa Toyokuni': 6.666666666666667, 'Zhang Xiaogang': 0.0, 'Douglas Coupland': 0.0, 'Lee Jung-seob': 0.0, 'Frans Hals': 0.0, 'Albrecht Altdorfer': 3.3333333333333335, 'Jan van Eyck': 0.0, 'Henri Fantin-Latour': 0.0, 'Hendrick Goltzius': 3.3333333333333335, 'José Guadalupe Posada': 0.0, 'Alessandro Mendini': 0.0, 'Qi Baishi': 0.0, 'Pierre Bonnard': 3.3333333333333335, 'George Stubbs': 3.3333333333333335, 'Jacob Jordaens': 0.0, 'Mathew Brady': 0.0, 'George Bellows': 0.0, 'Shinsui Itō': 0.0, 'Uemura Shōen': 0.0, 'Martin Schongauer': 0.0, 'Thomas Rowlandson': 0.0, 'Clyfford Still': 3.3333333333333335, 'Joseph Wright of Derby': 0.0, 'John Singleton Copley': 10.0, 'Amrita Sher-Gil': 0.0, 'Félix Vallotton': 0.0, 'Yue Minjun': 3.3333333333333335, 'Ford Madox Brown': 0.0, 'Fra Angelico': 6.666666666666667, 'Pietro da Cortona': 0.0, 'Salvador Dalí': 6.666666666666667, 'William Merritt Chase': 0.0, 'Jan Steen': 3.3333333333333335, 'Mi Fu': 0.0, 'Jamini Roy': 0.0, 'Jean-Léon Gérôme': 3.3333333333333335, 'Itō Jakuchū': 3.3333333333333335, 'Lewis Hine': 0.0, 'Jacob van Ruisdael': 0.0, 'Gustave Caillebotte': 0.0, 'Gerhard Richter': 0.0, 'Tang Yin': 0.0, 'Ogata Kenzan': 0.0, 'Ilya Repin': 3.3333333333333335, 'Gilbert Stuart': 0.0, 'Lorenzo Lotto': 3.3333333333333335, 'Emperor Huizong of Song': 0.0, 'Karl Friedrich Schinkel': 6.666666666666667, 'Sidney Nolan': 0.0, 'Wenceslaus Hollar': 0.0, 'Michael Ancher': 3.3333333333333335, 'Graciela Iturbide': 0.0, 'Giovanni Domenico Tiepolo': 0.0, 'George Romney': 3.3333333333333335, 'Xu Bing': 0.0, 'Marià Fortuny': 0.0, 'Kobayashi Kiyochika': 3.3333333333333335, 'Qian Xuan': 0.0, 'William Morris': 0.0, 'Théophile Steinlen': 0.0, 'Giotto': 3.3333333333333335, 'Anna Ancher': 0.0, 'Marcantonio Raimondi': 6.666666666666667, 'Duchenne de Boulogne': 6.666666666666667, 'Jean-Baptiste Oudry': 0.0, 'Johan Christian Dahl': 3.3333333333333335, 'Rogier van der Weyden': 3.3333333333333335, 'Giovanni Battista Piranesi': 0.0, 'Stanford White': 3.3333333333333335, 'August Macke': 0.0, 'Torii Kiyonaga': 6.666666666666667, 'Toyohara Chikanobu': 0.0, 'William-Adolphe Bouguereau': 0.0, 'Walker Evans': 3.3333333333333335, 'Charles Willson Peale': 3.3333333333333335, 'Jan Brueghel the Elder': 10.0, 'Charles Le Brun': 0.0, 'Arthur Streeton': 0.0, 'Toyohara Kunichika': 3.3333333333333335, 'Keisai Eisen': 3.3333333333333335, 'Félicien Rops': 0.0, 'Alvar Aalto': 3.3333333333333335, 'El Lissitzky': 3.3333333333333335, 'Abraham Bloemaert': 3.3333333333333335}\n"
     ]
    }
   ],
   "source": [
    "#compute the artist accuracy\n",
    "artist_accuracy = {}\n",
    "for i in range(len(artists)):\n",
    "    artist_accuracy[artists[i]] = 0\n",
    "for i in range(len(gt_labels)):\n",
    "    if gt_labels[i] == top_one_labels[i]:\n",
    "        artist_accuracy[artists[gt_labels[i]]] += 1\n",
    "for i in range(len(artists)):\n",
    "    artist_accuracy[artists[i]] /= len(df[df['artist'] == artists[i]])\n",
    "    #multiply by 100 to get percentage\n",
    "    artist_accuracy[artists[i]] *= 100\n",
    "print(artist_accuracy)\n"
   ]
  },
  {
   "cell_type": "code",
   "execution_count": 18,
   "metadata": {},
   "outputs": [
    {
     "name": "stdout",
     "output_type": "stream",
     "text": [
      "[('Eugène Atget', 13.333333333333334), ('Albert Bierstadt', 13.333333333333334), ('Peder Severin Krøyer', 13.333333333333334), ('Gustav Klimt', 10.0), ('Thomas Gainsborough', 10.0), ('Yoshitoshi', 10.0), ('Lucio Fontana', 10.0), ('Yokoyama Taikan', 10.0), ('John Singleton Copley', 10.0), ('Jan Brueghel the Elder', 10.0), ('Édouard Manet', 6.666666666666667), ('Diego Rivera', 6.666666666666667), ('Hokusai', 6.666666666666667), ('Fernando Botero', 6.666666666666667), ('Lucas Cranach the Elder', 6.666666666666667), ('Nicholas Roerich', 6.666666666666667), ('Odilon Redon', 6.666666666666667), ('Winslow Homer', 6.666666666666667), ('Juan Gris', 6.666666666666667), ('Édouard Vuillard', 6.666666666666667), ('Henri Rousseau', 6.666666666666667), ('Alfred Eisenstaedt', 6.666666666666667), ('Maruyama Ōkyo', 6.666666666666667), ('Hieronymus Bosch', 6.666666666666667), ('Frederic Leighton', 6.666666666666667), ('Utagawa Toyokuni', 6.666666666666667), ('Fra Angelico', 6.666666666666667), ('Salvador Dalí', 6.666666666666667), ('Karl Friedrich Schinkel', 6.666666666666667), ('Marcantonio Raimondi', 6.666666666666667), ('Duchenne de Boulogne', 6.666666666666667), ('Torii Kiyonaga', 6.666666666666667), ('Vincent van Gogh', 3.3333333333333335), ('Paul Cézanne', 3.3333333333333335), ('Frida Kahlo', 3.3333333333333335), ('Edvard Munch', 3.3333333333333335), ('Eugène Delacroix', 3.3333333333333335), ('Paul Klee', 3.3333333333333335), ('Osamu Tezuka', 3.3333333333333335), ('Egon Schiele', 3.3333333333333335), ('JR', 3.3333333333333335), (\"Georgia O'Keeffe\", 3.3333333333333335), ('Jean-Baptiste-Camille Corot', 3.3333333333333335), ('Utagawa Kuniyoshi', 3.3333333333333335), ('Caspar David Friedrich', 3.3333333333333335), ('Ernst Ludwig Kirchner', 3.3333333333333335), ('Alfred Sisley', 3.3333333333333335), ('James Abbott McNeill Whistler', 3.3333333333333335), ('Georges Seurat', 3.3333333333333335), ('Pieter Bruegel the Elder', 3.3333333333333335), ('Mario Testino', 3.3333333333333335), ('Louis Comfort Tiffany', 3.3333333333333335), ('Kunisada', 3.3333333333333335), ('Jacques-Louis David', 3.3333333333333335), ('Alfred Stieglitz', 3.3333333333333335), ('Ogata Kōrin', 3.3333333333333335), ('Jean-Antoine Watteau', 3.3333333333333335), ('Gim Hongdo', 3.3333333333333335), ('Kara Walker', 3.3333333333333335), ('Bada Shanren', 3.3333333333333335), ('Gordon Parks', 3.3333333333333335), ('John Everett Millais', 3.3333333333333335), ('Edward Hopper', 3.3333333333333335), ('Giovanni Bellini', 3.3333333333333335), ('Fornasetti', 3.3333333333333335), ('Franz Marc', 3.3333333333333335), ('Anders Zorn', 3.3333333333333335), ('Guercino', 3.3333333333333335), ('Gustave Moreau', 3.3333333333333335), ('Qiu Ying', 3.3333333333333335), ('Frederic Edwin Church', 3.3333333333333335), ('Charles-François Daubigny', 3.3333333333333335), ('Andrea Mantegna', 3.3333333333333335), ('Hiroshi Yoshida', 3.3333333333333335), ('Antonio Canova', 3.3333333333333335), ('Max Klinger', 3.3333333333333335), ('Albrecht Altdorfer', 3.3333333333333335), ('Hendrick Goltzius', 3.3333333333333335), ('Pierre Bonnard', 3.3333333333333335), ('George Stubbs', 3.3333333333333335), ('Clyfford Still', 3.3333333333333335), ('Yue Minjun', 3.3333333333333335), ('Jan Steen', 3.3333333333333335), ('Jean-Léon Gérôme', 3.3333333333333335), ('Itō Jakuchū', 3.3333333333333335), ('Ilya Repin', 3.3333333333333335), ('Lorenzo Lotto', 3.3333333333333335), ('Michael Ancher', 3.3333333333333335), ('George Romney', 3.3333333333333335), ('Kobayashi Kiyochika', 3.3333333333333335), ('Giotto', 3.3333333333333335), ('Johan Christian Dahl', 3.3333333333333335), ('Rogier van der Weyden', 3.3333333333333335), ('Stanford White', 3.3333333333333335), ('Walker Evans', 3.3333333333333335), ('Charles Willson Peale', 3.3333333333333335), ('Toyohara Kunichika', 3.3333333333333335), ('Keisai Eisen', 3.3333333333333335), ('Alvar Aalto', 3.3333333333333335), ('El Lissitzky', 3.3333333333333335), ('Abraham Bloemaert', 3.3333333333333335), ('Claude Monet', 0.0), ('Rembrandt', 0.0), ('Raphael', 0.0), ('Albrecht Dürer', 0.0), ('Paul Gauguin', 0.0), ('Francisco Goya', 0.0), ('Pierre-Auguste Renoir', 0.0), ('Peter Paul Rubens', 0.0), ('Auguste Rodin', 0.0), ('Titian', 0.0), ('Edgar Degas', 0.0), ('Henri de Toulouse-Lautrec', 0.0), ('William Blake', 0.0), ('El Greco', 0.0), ('Sandro Botticelli', 0.0), ('J. M. W. Turner', 0.0), ('Gustave Courbet', 0.0), ('Camille Pissarro', 0.0), ('Giorgio Vasari', 0.0), ('Michelangelo', 0.0), ('Leonardo da Vinci', 0.0), ('Hiroshige', 0.0), ('Tintoretto', 0.0), ('Anthony van Dyck', 0.0), ('John Singer Sargent', 0.0), ('Amedeo Modigliani', 0.0), ('Nicolas Poussin', 0.0), ('Paolo Veronese', 0.0), ('Norman Rockwell', 0.0), ('Joaquín Sorolla', 0.0), ('Mary Cassatt', 0.0), ('François Boucher', 0.0), ('Hans Holbein the Younger', 0.0), ('Zhao Mengfu', 0.0), ('John Constable', 0.0), ('Dante Gabriel Rossetti', 0.0), ('Shepard Fairey', 0.0), ('Wassily Kandinsky', 0.0), ('Giovanni Battista Tiepolo', 0.0), ('Honoré Daumier', 0.0), ('Johannes Vermeer', 0.0), ('William Hogarth', 0.0), ('Canaletto', 0.0), ('Guido Reni', 0.0), ('Paul Signac', 0.0), ('Bartolomé Esteban Murillo', 0.0), ('Jean-Honoré Fragonard', 0.0), ('Jean-François Millet', 0.0), ('Francisco de Zurbarán', 0.0), ('René Lalique', 0.0), ('Utamaro', 0.0), ('Joshua Reynolds', 0.0), ('Edward Burne-Jones', 0.0), ('Annibale Carracci', 0.0), ('Diego Velázquez', 0.0), ('Giorgio de Chirico', 0.0), ('Claude Lorrain', 0.0), ('Wen Zhengming', 0.0), ('Caravaggio', 0.0), ('Eadweard Muybridge', 0.0), ('Berthe Morisot', 0.0), ('Bertel Thorvaldsen', 0.0), ('Sol LeWitt', 0.0), ('Shitao', 0.0), ('Victor Vasarely', 0.0), ('Jean Auguste Dominique Ingres', 0.0), ('Eugène Boudin', 0.0), ('Henry Fuseli', 0.0), ('Frederic Remington', 0.0), ('Kenny Scharf', 0.0), ('Luca Giordano', 0.0), ('Chang Dai-chien', 0.0), ('Edward Lear', 0.0), ('Bronzino', 0.0), ('Henry Fox Talbot', 0.0), ('Gian Lorenzo Bernini', 0.0), ('L. S. Lowry', 0.0), ('Lovis Corinth', 0.0), ('Tawaraya Sōtatsu', 0.0), ('Jusepe de Ribera', 0.0), ('Emily Carr', 0.0), ('Childe Hassam', 0.0), ('David Teniers the Younger', 0.0), ('Thomas Eakins', 0.0), ('Kawanabe Kyōsai', 0.0), ('Benjamin West', 0.0), ('Émile Gallé', 0.0), ('Ramon Casas', 0.0), ('Dong Qichang', 0.0), ('Jean-Baptiste-Siméon Chardin', 0.0), ('Julia Margaret Cameron', 0.0), ('Harunobu Suzuki', 0.0), ('Hubert Robert', 0.0), ('Santiago Rusiñol', 0.0), ('Jeong Seon', 0.0), ('Ma Yuan', 0.0), ('Sin Yun-bok', 0.0), ('Marcel Broodthaers', 0.0), ('Zhang Xiaogang', 0.0), ('Douglas Coupland', 0.0), ('Lee Jung-seob', 0.0), ('Frans Hals', 0.0), ('Jan van Eyck', 0.0), ('Henri Fantin-Latour', 0.0), ('José Guadalupe Posada', 0.0), ('Alessandro Mendini', 0.0), ('Qi Baishi', 0.0), ('Jacob Jordaens', 0.0), ('Mathew Brady', 0.0), ('George Bellows', 0.0), ('Shinsui Itō', 0.0), ('Uemura Shōen', 0.0), ('Martin Schongauer', 0.0), ('Thomas Rowlandson', 0.0), ('Joseph Wright of Derby', 0.0), ('Amrita Sher-Gil', 0.0), ('Félix Vallotton', 0.0), ('Ford Madox Brown', 0.0), ('Pietro da Cortona', 0.0), ('William Merritt Chase', 0.0), ('Mi Fu', 0.0), ('Jamini Roy', 0.0), ('Lewis Hine', 0.0), ('Jacob van Ruisdael', 0.0), ('Gustave Caillebotte', 0.0), ('Gerhard Richter', 0.0), ('Tang Yin', 0.0), ('Ogata Kenzan', 0.0), ('Gilbert Stuart', 0.0), ('Emperor Huizong of Song', 0.0), ('Sidney Nolan', 0.0), ('Wenceslaus Hollar', 0.0), ('Graciela Iturbide', 0.0), ('Giovanni Domenico Tiepolo', 0.0), ('Xu Bing', 0.0), ('Marià Fortuny', 0.0), ('Qian Xuan', 0.0), ('William Morris', 0.0), ('Théophile Steinlen', 0.0), ('Anna Ancher', 0.0), ('Jean-Baptiste Oudry', 0.0), ('Giovanni Battista Piranesi', 0.0), ('August Macke', 0.0), ('Toyohara Chikanobu', 0.0), ('William-Adolphe Bouguereau', 0.0), ('Charles Le Brun', 0.0), ('Arthur Streeton', 0.0), ('Félicien Rops', 0.0)]\n"
     ]
    }
   ],
   "source": [
    "#sort\n",
    "sorted_accuracy = sorted(artist_accuracy.items(), key=lambda x: x[1], reverse=True)\n",
    "print(sorted_accuracy)"
   ]
  },
  {
   "cell_type": "code",
   "execution_count": 19,
   "metadata": {},
   "outputs": [
    {
     "name": "stdout",
     "output_type": "stream",
     "text": [
      "Top 10\n",
      "Eugène Atget 13.33\n",
      "Albert Bierstadt 13.33\n",
      "Peder Severin Krøyer 13.33\n",
      "Gustav Klimt 10.0\n",
      "Thomas Gainsborough 10.0\n",
      "Yoshitoshi 10.0\n",
      "Lucio Fontana 10.0\n",
      "Yokoyama Taikan 10.0\n",
      "John Singleton Copley 10.0\n",
      "Jan Brueghel the Elder 10.0\n"
     ]
    }
   ],
   "source": [
    "#higher 10\n",
    "print(\"Top 10\")\n",
    "for name, value in sorted_accuracy[:10]:\n",
    "    print(name, round(value, 2))"
   ]
  },
  {
   "cell_type": "code",
   "execution_count": 20,
   "metadata": {},
   "outputs": [
    {
     "name": "stdout",
     "output_type": "stream",
     "text": [
      "Top 10\n",
      "|Eugène Atget|13.33%|\n",
      "|Albert Bierstadt|13.33%|\n",
      "|Peder Severin Krøyer|13.33%|\n",
      "|Gustav Klimt|10.0%|\n",
      "|Thomas Gainsborough|10.0%|\n",
      "|Yoshitoshi|10.0%|\n",
      "|Lucio Fontana|10.0%|\n",
      "|Yokoyama Taikan|10.0%|\n",
      "|John Singleton Copley|10.0%|\n",
      "|Jan Brueghel the Elder|10.0%|\n"
     ]
    }
   ],
   "source": [
    "#higher 10\n",
    "print(\"Top 10\")\n",
    "for name, value in sorted_accuracy[:10]:\n",
    "    print('|'+name+'|' + str(round(value, 2))+'%|')"
   ]
  },
  {
   "cell_type": "code",
   "execution_count": 21,
   "metadata": {},
   "outputs": [],
   "source": [
    "#compute the prompts accuracy\n",
    "prompts = df['prompt'].unique()\n",
    "prompt_accuracy = {}\n",
    "for i in range(len(prompts)):\n",
    "    prompt_accuracy[prompts[i]] = 0\n",
    "for i in range(len(gt_labels)):\n",
    "    if gt_labels[i] == top_one_labels[i]:\n",
    "        prompt_accuracy[df['prompt'].to_list()[i]] += 1\n",
    "for i in range(len(prompts)):\n",
    "    prompt_accuracy[prompts[i]] /= len(df[df['prompt'] == prompts[i]])\n",
    "    #multiply by 100 to get percentage\n",
    "    prompt_accuracy[prompts[i]] *= 100"
   ]
  },
  {
   "cell_type": "code",
   "execution_count": 22,
   "metadata": {},
   "outputs": [
    {
     "name": "stdout",
     "output_type": "stream",
     "text": [
      "[('A romantic and dreamy scene of a couple in a hot air balloon, floating over a picturesque countryside.', 4.417670682730924), ('A romantic scene with a couple sitting on a park bench, surrounded by autumn leaves and a beautiful sunset.', 4.417670682730924), ('A mysterious scene with an ancient temple hidden deep in a jungle, with vines and moss covering the walls.', 4.016064257028113), ('A spooky and eerie abandoned carnival scene with empty rides, broken lights, and a creepy clown lurking in the shadows.', 3.614457831325301), ('A tranquil space scene with a spaceship orbiting a planet, shooting stars, and a constellation of stars in the distance.', 3.614457831325301), ('A joyful and heartwarming scene of a group of children playing in a park, with swings, slides, and a merry-go-round.', 3.614457831325301), ('A dramatic and mystical scene of a witch performing a ritual in a dark forest, surrounded by candles and other supernatural objects.', 2.8112449799196786), ('A cozy and festive holiday scene with a fireplace, stockings, and a Christmas tree decorated with lights and ornaments.', 2.4096385542168677), ('A peaceful and serene lakeside scene with a dock, a canoe, and a group of friends enjoying a summer afternoon.', 2.4096385542168677), ('A tranquil beach scene with crystal-clear water, palm trees, and a couple relaxing in a hammock.', 2.4096385542168677), ('A postcard-perfect Italian village with narrow streets, terracotta roofs, and a picturesque town square with a fountain.', 2.4096385542168677), ('A dramatic mountain climber scene with a group of mountaineers scaling a sheer cliff face, braving wind and cold to reach the summit.', 2.0080321285140563), ('A romantic and picturesque scene of a couple stargazing in a field at night, with shooting stars and the Milky Way overhead.', 2.0080321285140563), ('A mystical forest with a majestic unicorn standing in a clearing, surrounded by glowing flowers.', 2.0080321285140563), ('A romantic and whimsical scene of a couple dancing under the stars on a fairy tale-inspired balcony.', 2.0080321285140563), ('An exciting and adrenaline-fueled scene of a hot air balloon race over a vast canyon.', 1.6064257028112447), ('A magical winter wonderland with snow-covered trees, ice skating, and a group of friends building a snowman.', 1.6064257028112447), ('A majestic and awe-inspiring scene of a safari in Africa with elephants, lions, and a beautiful sunset in the background.', 1.2048192771084338), ('A snowy wonderland with towering ice sculptures, sleighs, and a castle made of ice.', 1.2048192771084338), ('A peaceful and romantic scene of a couple sitting in a gondola, being serenaded on a moonlit canal in Venice, Italy.', 1.2048192771084338), ('A vibrant and colorful scene of a Carnaval parade in Rio de Janeiro with samba dancers, costumes, and floats.', 1.2048192771084338), ('A glamorous and luxurious yacht sailing in the open sea with a beautiful sunset in the background.', 1.2048192771084338), ('A mystical and spiritual scene of a meditating monk in a temple surrounded by cherry blossoms.', 0.8032128514056224), ('A vibrant and colorful scene of a street market in Marrakech, Morocco with spices, textiles, and street performers.', 0.8032128514056224), ('A surreal cityscape with floating buildings, a rainbow bridge, and a giant clocktower in the center.', 0.8032128514056224), ('A dark and mysterious scene of an abandoned subway station, with flickering lights and eerie echoes.', 0.8032128514056224), ('A futuristic and eco-friendly scene of a city with massive vertical gardens covering skyscrapers, parks, and rooftop terraces.', 0.8032128514056224), ('A dreamy and surreal cloudscape scene with fluffy white clouds, a rainbow, and a hot air balloon floating in the distance.', 0.4016064257028112), ('A dynamic and exciting skateboard park with jumps, ramps, and half-pipes, surrounded by the city skyline.', 0.4016064257028112), ('A whimsical and enchanting scene of a fairy tale castle in the clouds, with a rainbow in the background.', 0.4016064257028112)]\n"
     ]
    }
   ],
   "source": [
    "#sort\n",
    "sorted_accuracy = sorted(prompt_accuracy.items(), key=lambda x: x[1], reverse=True)\n",
    "print(sorted_accuracy)"
   ]
  },
  {
   "cell_type": "code",
   "execution_count": 23,
   "metadata": {},
   "outputs": [
    {
     "name": "stdout",
     "output_type": "stream",
     "text": [
      "Top 5\n",
      "A romantic and dreamy scene of a couple in a hot air balloon, floating over a picturesque countryside. 4.42\n",
      "A romantic scene with a couple sitting on a park bench, surrounded by autumn leaves and a beautiful sunset. 4.42\n",
      "A mysterious scene with an ancient temple hidden deep in a jungle, with vines and moss covering the walls. 4.02\n",
      "A spooky and eerie abandoned carnival scene with empty rides, broken lights, and a creepy clown lurking in the shadows. 3.61\n",
      "A tranquil space scene with a spaceship orbiting a planet, shooting stars, and a constellation of stars in the distance. 3.61\n",
      "Bottom 5\n",
      "A dark and mysterious scene of an abandoned subway station, with flickering lights and eerie echoes. 0.8\n",
      "A futuristic and eco-friendly scene of a city with massive vertical gardens covering skyscrapers, parks, and rooftop terraces. 0.8\n",
      "A dreamy and surreal cloudscape scene with fluffy white clouds, a rainbow, and a hot air balloon floating in the distance. 0.4\n",
      "A dynamic and exciting skateboard park with jumps, ramps, and half-pipes, surrounded by the city skyline. 0.4\n",
      "A whimsical and enchanting scene of a fairy tale castle in the clouds, with a rainbow in the background. 0.4\n"
     ]
    }
   ],
   "source": [
    "#get prompts with their mean accuracy\n",
    "print(\"Top 5\")\n",
    "for name, value in sorted_accuracy[:5]:\n",
    "    print(name, round(value, 2))\n",
    "print(\"Bottom 5\")\n",
    "for name, value in sorted_accuracy[-5:]:\n",
    "    print(name, round(value, 2))"
   ]
  },
  {
   "cell_type": "code",
   "execution_count": 24,
   "metadata": {},
   "outputs": [
    {
     "name": "stdout",
     "output_type": "stream",
     "text": [
      "|A romantic and dreamy scene of a couple in a hot air balloon, floating over a picturesque countryside.|4.42%|\n",
      "|A romantic scene with a couple sitting on a park bench, surrounded by autumn leaves and a beautiful sunset.|4.42%|\n",
      "|A mysterious scene with an ancient temple hidden deep in a jungle, with vines and moss covering the walls.|4.02%|\n",
      "|A spooky and eerie abandoned carnival scene with empty rides, broken lights, and a creepy clown lurking in the shadows.|3.61%|\n",
      "|A tranquil space scene with a spaceship orbiting a planet, shooting stars, and a constellation of stars in the distance.|3.61%|\n",
      "|...|...|\n",
      "|A dark and mysterious scene of an abandoned subway station, with flickering lights and eerie echoes.|0.8%|\n",
      "|A futuristic and eco-friendly scene of a city with massive vertical gardens covering skyscrapers, parks, and rooftop terraces.|0.8%|\n",
      "|A dreamy and surreal cloudscape scene with fluffy white clouds, a rainbow, and a hot air balloon floating in the distance.|0.4%|\n",
      "|A dynamic and exciting skateboard park with jumps, ramps, and half-pipes, surrounded by the city skyline.|0.4%|\n",
      "|A whimsical and enchanting scene of a fairy tale castle in the clouds, with a rainbow in the background.|0.4%|\n"
     ]
    }
   ],
   "source": [
    "#get prompts with their mean accuracy\n",
    "for name, value in sorted_accuracy[:5]:\n",
    "    print('|'+name+'|' + str(round(value, 2))+'%|')\n",
    "print(\"|...|...|\")\n",
    "for name, value in sorted_accuracy[-5:]:\n",
    "    print('|'+name+'|' + str(round(value, 2))+'%|')"
   ]
  },
  {
   "cell_type": "code",
   "execution_count": null,
   "metadata": {},
   "outputs": [],
   "source": []
  }
 ],
 "metadata": {
  "kernelspec": {
   "display_name": "Python 3",
   "language": "python",
   "name": "python3"
  },
  "language_info": {
   "codemirror_mode": {
    "name": "ipython",
    "version": 3
   },
   "file_extension": ".py",
   "mimetype": "text/x-python",
   "name": "python",
   "nbconvert_exporter": "python",
   "pygments_lexer": "ipython3",
   "version": "3.10.10"
  },
  "orig_nbformat": 4
 },
 "nbformat": 4,
 "nbformat_minor": 2
}
