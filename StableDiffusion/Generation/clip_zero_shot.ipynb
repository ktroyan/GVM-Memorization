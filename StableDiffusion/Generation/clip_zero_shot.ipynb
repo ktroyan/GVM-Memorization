{
 "cells": [
  {
   "cell_type": "code",
   "execution_count": 1,
   "id": "33927816",
   "metadata": {},
   "outputs": [],
   "source": [
    "import numpy as np\n",
    "import torch\n",
    "from torchvision import transforms\n",
    "from tqdm import tqdm\n",
    "\n",
    "\n",
    "import PIL\n",
    "\n",
    "import matplotlib.pyplot as plt\n"
   ]
  },
  {
   "cell_type": "code",
   "execution_count": 45,
   "id": "b76b374e",
   "metadata": {},
   "outputs": [],
   "source": [
    "import open_clip\n",
    "from open_clip import tokenizer\n",
    "model, _, preprocess = open_clip.create_model_and_transforms('ViT-B-32', pretrained='laion400m_e32')"
   ]
  },
  {
   "cell_type": "code",
   "execution_count": null,
   "id": "2e511100",
   "metadata": {},
   "outputs": [],
   "source": [
    "data = np.load('/cluster/scratch/nkoisheke/gen_images.npy')"
   ]
  },
  {
   "cell_type": "code",
   "execution_count": null,
   "id": "4e70ab44",
   "metadata": {},
   "outputs": [],
   "source": [
    "%matplotlib inline\n",
    "\n",
    "temp_image = data[0]\n",
    "\n",
    "plt.imshow(temp_image)"
   ]
  },
  {
   "cell_type": "markdown",
   "id": "3602518c",
   "metadata": {},
   "source": [
    "# Check on generated images"
   ]
  },
  {
   "cell_type": "markdown",
   "id": "61f2e6f6",
   "metadata": {},
   "source": [
    "## Get image features"
   ]
  },
  {
   "cell_type": "code",
   "execution_count": 26,
   "id": "70030df8",
   "metadata": {},
   "outputs": [
    {
     "name": "stderr",
     "output_type": "stream",
     "text": [
      "100%|██████████| 59/59 [08:24<00:00,  8.55s/it]\n"
     ]
    }
   ],
   "source": [
    "image_features = []\n",
    "batch_size = 64\n",
    "\n",
    "with torch.no_grad():\n",
    "    for i in tqdm(range(0, len(data), batch_size)):\n",
    "        batch = []\n",
    "        for j in range(i, min(i+batch_size, len(data))):\n",
    "            img = PIL.Image.fromarray(data[j])\n",
    "            img = preprocess(img)\n",
    "            batch.append(img)\n",
    "        batch = torch.tensor(np.stack(batch))\n",
    "        img_feats = model.encode_image(batch).float()\n",
    "        image_features.append(img_feats)\n",
    "image_features_torch = torch.concatenate(image_features)"
   ]
  },
  {
   "cell_type": "markdown",
   "id": "93612003",
   "metadata": {},
   "source": [
    " Clean the data"
   ]
  },
  {
   "cell_type": "code",
   "execution_count": 27,
   "id": "5df5ec18",
   "metadata": {},
   "outputs": [],
   "source": [
    "del data"
   ]
  },
  {
   "cell_type": "markdown",
   "id": "584a6bbe",
   "metadata": {},
   "source": [
    "## Get text features"
   ]
  },
  {
   "cell_type": "code",
   "execution_count": 28,
   "id": "719eb03c",
   "metadata": {},
   "outputs": [
    {
     "data": {
      "text/html": [
       "<div>\n",
       "<style scoped>\n",
       "    .dataframe tbody tr th:only-of-type {\n",
       "        vertical-align: middle;\n",
       "    }\n",
       "\n",
       "    .dataframe tbody tr th {\n",
       "        vertical-align: top;\n",
       "    }\n",
       "\n",
       "    .dataframe thead th {\n",
       "        text-align: right;\n",
       "    }\n",
       "</style>\n",
       "<table border=\"1\" class=\"dataframe\">\n",
       "  <thead>\n",
       "    <tr style=\"text-align: right;\">\n",
       "      <th></th>\n",
       "      <th>uid</th>\n",
       "      <th>artist</th>\n",
       "      <th>prompt</th>\n",
       "      <th>sd_prompt</th>\n",
       "      <th>sd_version</th>\n",
       "    </tr>\n",
       "  </thead>\n",
       "  <tbody>\n",
       "    <tr>\n",
       "      <th>0</th>\n",
       "      <td>0</td>\n",
       "      <td>Vincent van Gogh</td>\n",
       "      <td>An exciting and adrenaline-fueled scene of a h...</td>\n",
       "      <td>An exciting and adrenaline-fueled scene of a h...</td>\n",
       "      <td>2.1</td>\n",
       "    </tr>\n",
       "    <tr>\n",
       "      <th>1</th>\n",
       "      <td>1</td>\n",
       "      <td>Vincent van Gogh</td>\n",
       "      <td>A spooky and eerie abandoned carnival scene wi...</td>\n",
       "      <td>A spooky and eerie abandoned carnival scene wi...</td>\n",
       "      <td>2.1</td>\n",
       "    </tr>\n",
       "    <tr>\n",
       "      <th>2</th>\n",
       "      <td>2</td>\n",
       "      <td>Vincent van Gogh</td>\n",
       "      <td>A mystical and spiritual scene of a meditating...</td>\n",
       "      <td>A mystical and spiritual scene of a meditating...</td>\n",
       "      <td>2.1</td>\n",
       "    </tr>\n",
       "    <tr>\n",
       "      <th>3</th>\n",
       "      <td>3</td>\n",
       "      <td>Vincent van Gogh</td>\n",
       "      <td>A dreamy and surreal cloudscape scene with flu...</td>\n",
       "      <td>A dreamy and surreal cloudscape scene with flu...</td>\n",
       "      <td>2.1</td>\n",
       "    </tr>\n",
       "    <tr>\n",
       "      <th>4</th>\n",
       "      <td>4</td>\n",
       "      <td>Vincent van Gogh</td>\n",
       "      <td>A dynamic and exciting skateboard park with ju...</td>\n",
       "      <td>A dynamic and exciting skateboard park with ju...</td>\n",
       "      <td>2.1</td>\n",
       "    </tr>\n",
       "  </tbody>\n",
       "</table>\n",
       "</div>"
      ],
      "text/plain": [
       "   uid            artist                                             prompt  \\\n",
       "0    0  Vincent van Gogh  An exciting and adrenaline-fueled scene of a h...   \n",
       "1    1  Vincent van Gogh  A spooky and eerie abandoned carnival scene wi...   \n",
       "2    2  Vincent van Gogh  A mystical and spiritual scene of a meditating...   \n",
       "3    3  Vincent van Gogh  A dreamy and surreal cloudscape scene with flu...   \n",
       "4    4  Vincent van Gogh  A dynamic and exciting skateboard park with ju...   \n",
       "\n",
       "                                           sd_prompt  sd_version  \n",
       "0  An exciting and adrenaline-fueled scene of a h...         2.1  \n",
       "1  A spooky and eerie abandoned carnival scene wi...         2.1  \n",
       "2  A mystical and spiritual scene of a meditating...         2.1  \n",
       "3  A dreamy and surreal cloudscape scene with flu...         2.1  \n",
       "4  A dynamic and exciting skateboard park with ju...         2.1  "
      ]
     },
     "execution_count": 28,
     "metadata": {},
     "output_type": "execute_result"
    }
   ],
   "source": [
    "# read csv file\n",
    "import pandas as pd\n",
    "df = pd.read_csv('/cluster/scratch/nkoisheke/gen_images.csv')\n",
    "df.head()"
   ]
  },
  {
   "cell_type": "code",
   "execution_count": 29,
   "id": "ae989b28",
   "metadata": {},
   "outputs": [],
   "source": [
    "artists = df['artist'].unique()\n",
    "text_features = []\n",
    "\n",
    "with torch.no_grad():\n",
    "    for artist in artists:\n",
    "        prompt = \"The following work is done in the style of \" + artist\n",
    "        text_tokens = tokenizer.tokenize(prompt)\n",
    "        txt_feat = model.encode_text(text_tokens).float()\n",
    "        text_features.append(txt_feat)\n",
    "text_features_torch = torch.concatenate(text_features)"
   ]
  },
  {
   "cell_type": "code",
   "execution_count": 31,
   "id": "9a7d38e3",
   "metadata": {},
   "outputs": [
    {
     "data": {
      "text/plain": [
       "249.0"
      ]
     },
     "execution_count": 31,
     "metadata": {},
     "output_type": "execute_result"
    }
   ],
   "source": [
    "3735 / 15"
   ]
  },
  {
   "cell_type": "code",
   "execution_count": 32,
   "id": "1d9f2844",
   "metadata": {},
   "outputs": [],
   "source": [
    "idx2artist = {}\n",
    "artist2idx = {}\n",
    "for i, artist in enumerate(artists):\n",
    "    idx2artist[i] = artist\n",
    "    artist2idx[artist] = i"
   ]
  },
  {
   "cell_type": "markdown",
   "id": "aa136596",
   "metadata": {},
   "source": [
    "## Compute cosine similarity"
   ]
  },
  {
   "cell_type": "code",
   "execution_count": 33,
   "id": "8bd08c66",
   "metadata": {},
   "outputs": [],
   "source": [
    "image_features_torch /= image_features_torch.norm(dim=-1, keepdim=True)\n",
    "text_features_torch /= text_features_torch.norm(dim=-1, keepdim=True)\n",
    "\n",
    "text_probs = (100.0 * image_features_torch @ text_features_torch.T).softmax(dim=-1)\n",
    "top_probs, top_k_labels = text_probs.cpu().topk(5, dim=-1)"
   ]
  },
  {
   "cell_type": "code",
   "execution_count": 34,
   "id": "e237b82c",
   "metadata": {},
   "outputs": [
    {
     "name": "stdout",
     "output_type": "stream",
     "text": [
      "torch.Size([3735]) torch.Size([3735])\n",
      "Top 1 score is 4.58\n",
      "Top 5 score is 12.64\n"
     ]
    }
   ],
   "source": [
    "gt_labels = torch.tensor([artist2idx[x] for x in df['artist'].to_list()])\n",
    "\n",
    "top_one_labels = top_k_labels[:, 0]\n",
    "\n",
    "print(gt_labels.shape, top_one_labels.shape)\n",
    "\n",
    "correct = (gt_labels == top_one_labels).sum()\n",
    "print(f\"Top 1 score is {round((correct / gt_labels.shape[0]).item() * 100, 2)}\")\n",
    "\n",
    "\n",
    "topk_correct = 0\n",
    "for i in range(5):\n",
    "    top_one_labels = top_k_labels[:, i]\n",
    "    correct = (gt_labels == top_one_labels).sum()\n",
    "    topk_correct += correct\n",
    "print(f\"Top 5 score is {round((topk_correct / gt_labels.shape[0]).item() * 100, 2)}\")\n",
    "# correct = (gt_labels.repeat() == top_k_labels).sum()\n",
    "# print(correct)"
   ]
  },
  {
   "cell_type": "markdown",
   "id": "1f90b92d",
   "metadata": {},
   "source": [
    "# Check on real images"
   ]
  },
  {
   "cell_type": "code",
   "execution_count": 35,
   "id": "b7bff64f",
   "metadata": {},
   "outputs": [],
   "source": [
    "import os\n",
    "path = \"/cluster/scratch/nkoisheke/artworks_images/\"\n",
    "df = pd.read_csv('../Scraping/googleart/Data/googleart_art_data_final.csv', sep='\\t')"
   ]
  },
  {
   "cell_type": "code",
   "execution_count": 36,
   "id": "c53c74a8",
   "metadata": {},
   "outputs": [
    {
     "data": {
      "text/html": [
       "<div>\n",
       "<style scoped>\n",
       "    .dataframe tbody tr th:only-of-type {\n",
       "        vertical-align: middle;\n",
       "    }\n",
       "\n",
       "    .dataframe tbody tr th {\n",
       "        vertical-align: top;\n",
       "    }\n",
       "\n",
       "    .dataframe thead th {\n",
       "        text-align: right;\n",
       "    }\n",
       "</style>\n",
       "<table border=\"1\" class=\"dataframe\">\n",
       "  <thead>\n",
       "    <tr style=\"text-align: right;\">\n",
       "      <th></th>\n",
       "      <th>artist_name</th>\n",
       "      <th>artwork_title</th>\n",
       "      <th>artwork_date</th>\n",
       "      <th>artwork_url</th>\n",
       "      <th>image_url</th>\n",
       "      <th>image_path</th>\n",
       "    </tr>\n",
       "  </thead>\n",
       "  <tbody>\n",
       "    <tr>\n",
       "      <th>0</th>\n",
       "      <td>Vincent van Gogh</td>\n",
       "      <td>Self-Portrait</td>\n",
       "      <td>1889</td>\n",
       "      <td>https://artsandculture.google.com/asset/self-p...</td>\n",
       "      <td>blob:https://artsandculture.google.com/46b00d1...</td>\n",
       "      <td>./Scraping/googleart/Data/artworks_images/imag...</td>\n",
       "    </tr>\n",
       "    <tr>\n",
       "      <th>1</th>\n",
       "      <td>Vincent van Gogh</td>\n",
       "      <td>The Starry Night</td>\n",
       "      <td>1889</td>\n",
       "      <td>https://artsandculture.google.com/asset/the-st...</td>\n",
       "      <td>blob:https://artsandculture.google.com/30b15a6...</td>\n",
       "      <td>./Scraping/googleart/Data/artworks_images/imag...</td>\n",
       "    </tr>\n",
       "    <tr>\n",
       "      <th>2</th>\n",
       "      <td>Vincent van Gogh</td>\n",
       "      <td>Almond Blossom</td>\n",
       "      <td>February 1890 - 1890</td>\n",
       "      <td>https://artsandculture.google.com/asset/almond...</td>\n",
       "      <td>blob:https://artsandculture.google.com/78cc161...</td>\n",
       "      <td>./Scraping/googleart/Data/artworks_images/imag...</td>\n",
       "    </tr>\n",
       "    <tr>\n",
       "      <th>3</th>\n",
       "      <td>Vincent van Gogh</td>\n",
       "      <td>Country road in Provence by night</td>\n",
       "      <td>c. 12 - 15 May 1890</td>\n",
       "      <td>https://artsandculture.google.com/asset/countr...</td>\n",
       "      <td>blob:https://artsandculture.google.com/4873671...</td>\n",
       "      <td>./Scraping/googleart/Data/artworks_images/imag...</td>\n",
       "    </tr>\n",
       "    <tr>\n",
       "      <th>4</th>\n",
       "      <td>Vincent van Gogh</td>\n",
       "      <td>Starry Night</td>\n",
       "      <td>1888</td>\n",
       "      <td>https://artsandculture.google.com/asset/starry...</td>\n",
       "      <td>blob:https://artsandculture.google.com/fe464bc...</td>\n",
       "      <td>./Scraping/googleart/Data/artworks_images/imag...</td>\n",
       "    </tr>\n",
       "  </tbody>\n",
       "</table>\n",
       "</div>"
      ],
      "text/plain": [
       "        artist_name                      artwork_title          artwork_date  \\\n",
       "0  Vincent van Gogh                      Self-Portrait                  1889   \n",
       "1  Vincent van Gogh                   The Starry Night                  1889   \n",
       "2  Vincent van Gogh                     Almond Blossom  February 1890 - 1890   \n",
       "3  Vincent van Gogh  Country road in Provence by night   c. 12 - 15 May 1890   \n",
       "4  Vincent van Gogh                       Starry Night                  1888   \n",
       "\n",
       "                                         artwork_url  \\\n",
       "0  https://artsandculture.google.com/asset/self-p...   \n",
       "1  https://artsandculture.google.com/asset/the-st...   \n",
       "2  https://artsandculture.google.com/asset/almond...   \n",
       "3  https://artsandculture.google.com/asset/countr...   \n",
       "4  https://artsandculture.google.com/asset/starry...   \n",
       "\n",
       "                                           image_url  \\\n",
       "0  blob:https://artsandculture.google.com/46b00d1...   \n",
       "1  blob:https://artsandculture.google.com/30b15a6...   \n",
       "2  blob:https://artsandculture.google.com/78cc161...   \n",
       "3  blob:https://artsandculture.google.com/4873671...   \n",
       "4  blob:https://artsandculture.google.com/fe464bc...   \n",
       "\n",
       "                                          image_path  \n",
       "0  ./Scraping/googleart/Data/artworks_images/imag...  \n",
       "1  ./Scraping/googleart/Data/artworks_images/imag...  \n",
       "2  ./Scraping/googleart/Data/artworks_images/imag...  \n",
       "3  ./Scraping/googleart/Data/artworks_images/imag...  \n",
       "4  ./Scraping/googleart/Data/artworks_images/imag...  "
      ]
     },
     "execution_count": 36,
     "metadata": {},
     "output_type": "execute_result"
    }
   ],
   "source": [
    "df.head()"
   ]
  },
  {
   "cell_type": "code",
   "execution_count": 37,
   "id": "0b1cd75c",
   "metadata": {},
   "outputs": [],
   "source": [
    "image_paths = [path + img.split('/')[-1] for img in df[\"image_path\"].to_list()]"
   ]
  },
  {
   "cell_type": "markdown",
   "id": "7f2b79fa",
   "metadata": {},
   "source": [
    "## Get image features"
   ]
  },
  {
   "cell_type": "code",
   "execution_count": 38,
   "id": "454b0429",
   "metadata": {},
   "outputs": [
    {
     "name": "stderr",
     "output_type": "stream",
     "text": [
      "100%|██████████| 19/19 [02:43<00:00,  8.58s/it]\n"
     ]
    }
   ],
   "source": [
    "image_features = []\n",
    "batch_size = 64\n",
    "\n",
    "with torch.no_grad():\n",
    "    for i in tqdm(range(0, len(image_paths), batch_size)):\n",
    "        batch = []\n",
    "        for j in range(i, min(i+batch_size, len(image_paths))):\n",
    "            img = PIL.Image.open(image_paths[j])\n",
    "            img = preprocess(img)\n",
    "            batch.append(img)\n",
    "        batch = torch.tensor(np.stack(batch))\n",
    "        img_feats = model.encode_image(batch).float()\n",
    "        image_features.append(img_feats)\n",
    "image_features_torch = torch.concatenate(image_features)"
   ]
  },
  {
   "cell_type": "code",
   "execution_count": 39,
   "id": "2711843b",
   "metadata": {},
   "outputs": [],
   "source": [
    "artists = df['artist_name'].unique()\n",
    "text_features = []\n",
    "\n",
    "with torch.no_grad():\n",
    "    for artist in artists:\n",
    "        prompt = \"The following work is done in the style of \" + artist\n",
    "        text_tokens = tokenizer.tokenize(prompt)\n",
    "        txt_feat = model.encode_text(text_tokens).float()\n",
    "        text_features.append(txt_feat)\n",
    "text_features_torch = torch.concatenate(text_features)"
   ]
  },
  {
   "cell_type": "markdown",
   "id": "190b6e97",
   "metadata": {},
   "source": [
    "## Compute probabilities"
   ]
  },
  {
   "cell_type": "code",
   "execution_count": 40,
   "id": "26a49e60",
   "metadata": {},
   "outputs": [],
   "source": [
    "image_features_torch /= image_features_torch.norm(dim=-1, keepdim=True)\n",
    "text_features_torch /= text_features_torch.norm(dim=-1, keepdim=True)\n",
    "\n",
    "text_probs = (100.0 * image_features_torch @ text_features_torch.T).softmax(dim=-1)\n",
    "top_probs, top_k_labels = text_probs.cpu().topk(5, dim=-1)"
   ]
  },
  {
   "cell_type": "code",
   "execution_count": 41,
   "id": "682b8187",
   "metadata": {},
   "outputs": [
    {
     "name": "stdout",
     "output_type": "stream",
     "text": [
      "torch.Size([1181]) torch.Size([1181])\n",
      "Top 1 score is 45.89\n",
      "Top 5 score is 67.49\n"
     ]
    }
   ],
   "source": [
    "gt_labels = torch.tensor([artist2idx[x] for x in df['artist_name'].to_list()])\n",
    "\n",
    "top_one_labels = top_k_labels[:, 0]\n",
    "\n",
    "print(gt_labels.shape, top_one_labels.shape)\n",
    "\n",
    "correct = (gt_labels == top_one_labels).sum()\n",
    "print(f\"Top 1 score is {round((correct / gt_labels.shape[0]).item() * 100, 2)}\")\n",
    "\n",
    "\n",
    "topk_correct = 0\n",
    "for i in range(5):\n",
    "    top_one_labels = top_k_labels[:, i]\n",
    "    correct = (gt_labels == top_one_labels).sum()\n",
    "    topk_correct += correct\n",
    "print(f\"Top 5 score is {round((topk_correct / gt_labels.shape[0]).item() * 100, 2)}\")\n",
    "# correct = (gt_labels.repeat() == top_k_labels).sum()\n",
    "# print(correct)"
   ]
  },
  {
   "cell_type": "code",
   "execution_count": null,
   "id": "9a11f737",
   "metadata": {},
   "outputs": [],
   "source": []
  }
 ],
 "metadata": {
  "kernelspec": {
   "display_name": "Python 3 (ipykernel)",
   "language": "python",
   "name": "python3"
  },
  "language_info": {
   "codemirror_mode": {
    "name": "ipython",
    "version": 3
   },
   "file_extension": ".py",
   "mimetype": "text/x-python",
   "name": "python",
   "nbconvert_exporter": "python",
   "pygments_lexer": "ipython3",
   "version": "3.10.4"
  }
 },
 "nbformat": 4,
 "nbformat_minor": 5
}
