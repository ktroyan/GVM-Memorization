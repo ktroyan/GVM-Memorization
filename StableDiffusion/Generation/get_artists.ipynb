{
 "cells": [
  {
   "cell_type": "code",
   "execution_count": 1,
   "metadata": {},
   "outputs": [],
   "source": [
    "import pandas as pd"
   ]
  },
  {
   "attachments": {},
   "cell_type": "markdown",
   "metadata": {},
   "source": [
    "### Get artists' names from the historical data"
   ]
  },
  {
   "cell_type": "code",
   "execution_count": 6,
   "metadata": {},
   "outputs": [
    {
     "name": "stdout",
     "output_type": "stream",
     "text": [
      "Images scraped: 1181\n"
     ]
    },
    {
     "data": {
      "text/html": [
       "<div>\n",
       "<style scoped>\n",
       "    .dataframe tbody tr th:only-of-type {\n",
       "        vertical-align: middle;\n",
       "    }\n",
       "\n",
       "    .dataframe tbody tr th {\n",
       "        vertical-align: top;\n",
       "    }\n",
       "\n",
       "    .dataframe thead th {\n",
       "        text-align: right;\n",
       "    }\n",
       "</style>\n",
       "<table border=\"1\" class=\"dataframe\">\n",
       "  <thead>\n",
       "    <tr style=\"text-align: right;\">\n",
       "      <th></th>\n",
       "      <th>artist_name</th>\n",
       "      <th>artwork_title</th>\n",
       "      <th>artwork_date</th>\n",
       "      <th>artwork_url</th>\n",
       "      <th>image_url</th>\n",
       "      <th>image_path</th>\n",
       "    </tr>\n",
       "  </thead>\n",
       "  <tbody>\n",
       "    <tr>\n",
       "      <th>0</th>\n",
       "      <td>Vincent van Gogh</td>\n",
       "      <td>Self-Portrait</td>\n",
       "      <td>1889</td>\n",
       "      <td>https://artsandculture.google.com/asset/self-p...</td>\n",
       "      <td>blob:https://artsandculture.google.com/46b00d1...</td>\n",
       "      <td>./Scraping/googleart/Data/artworks_images/imag...</td>\n",
       "    </tr>\n",
       "    <tr>\n",
       "      <th>1</th>\n",
       "      <td>Vincent van Gogh</td>\n",
       "      <td>The Starry Night</td>\n",
       "      <td>1889</td>\n",
       "      <td>https://artsandculture.google.com/asset/the-st...</td>\n",
       "      <td>blob:https://artsandculture.google.com/30b15a6...</td>\n",
       "      <td>./Scraping/googleart/Data/artworks_images/imag...</td>\n",
       "    </tr>\n",
       "    <tr>\n",
       "      <th>2</th>\n",
       "      <td>Vincent van Gogh</td>\n",
       "      <td>Almond Blossom</td>\n",
       "      <td>February 1890 - 1890</td>\n",
       "      <td>https://artsandculture.google.com/asset/almond...</td>\n",
       "      <td>blob:https://artsandculture.google.com/78cc161...</td>\n",
       "      <td>./Scraping/googleart/Data/artworks_images/imag...</td>\n",
       "    </tr>\n",
       "    <tr>\n",
       "      <th>3</th>\n",
       "      <td>Vincent van Gogh</td>\n",
       "      <td>Country road in Provence by night</td>\n",
       "      <td>c. 12 - 15 May 1890</td>\n",
       "      <td>https://artsandculture.google.com/asset/countr...</td>\n",
       "      <td>blob:https://artsandculture.google.com/4873671...</td>\n",
       "      <td>./Scraping/googleart/Data/artworks_images/imag...</td>\n",
       "    </tr>\n",
       "    <tr>\n",
       "      <th>4</th>\n",
       "      <td>Vincent van Gogh</td>\n",
       "      <td>Starry Night</td>\n",
       "      <td>1888</td>\n",
       "      <td>https://artsandculture.google.com/asset/starry...</td>\n",
       "      <td>blob:https://artsandculture.google.com/fe464bc...</td>\n",
       "      <td>./Scraping/googleart/Data/artworks_images/imag...</td>\n",
       "    </tr>\n",
       "  </tbody>\n",
       "</table>\n",
       "</div>"
      ],
      "text/plain": [
       "        artist_name                      artwork_title          artwork_date  \\\n",
       "0  Vincent van Gogh                      Self-Portrait                  1889   \n",
       "1  Vincent van Gogh                   The Starry Night                  1889   \n",
       "2  Vincent van Gogh                     Almond Blossom  February 1890 - 1890   \n",
       "3  Vincent van Gogh  Country road in Provence by night   c. 12 - 15 May 1890   \n",
       "4  Vincent van Gogh                       Starry Night                  1888   \n",
       "\n",
       "                                         artwork_url  \\\n",
       "0  https://artsandculture.google.com/asset/self-p...   \n",
       "1  https://artsandculture.google.com/asset/the-st...   \n",
       "2  https://artsandculture.google.com/asset/almond...   \n",
       "3  https://artsandculture.google.com/asset/countr...   \n",
       "4  https://artsandculture.google.com/asset/starry...   \n",
       "\n",
       "                                           image_url  \\\n",
       "0  blob:https://artsandculture.google.com/46b00d1...   \n",
       "1  blob:https://artsandculture.google.com/30b15a6...   \n",
       "2  blob:https://artsandculture.google.com/78cc161...   \n",
       "3  blob:https://artsandculture.google.com/4873671...   \n",
       "4  blob:https://artsandculture.google.com/fe464bc...   \n",
       "\n",
       "                                          image_path  \n",
       "0  ./Scraping/googleart/Data/artworks_images/imag...  \n",
       "1  ./Scraping/googleart/Data/artworks_images/imag...  \n",
       "2  ./Scraping/googleart/Data/artworks_images/imag...  \n",
       "3  ./Scraping/googleart/Data/artworks_images/imag...  \n",
       "4  ./Scraping/googleart/Data/artworks_images/imag...  "
      ]
     },
     "execution_count": 6,
     "metadata": {},
     "output_type": "execute_result"
    }
   ],
   "source": [
    "# read the following csv file into a dataframe\n",
    "df = pd.read_csv('../../Scraping/googleart/Data/googleart_art_data_final.csv', sep='\\t')\n",
    "print(f\"Images scraped: {len(df)}\")\n",
    "df.head()"
   ]
  },
  {
   "cell_type": "code",
   "execution_count": 16,
   "metadata": {},
   "outputs": [
    {
     "name": "stdout",
     "output_type": "stream",
     "text": [
      "Number of artists: 249 \n",
      "Average images per artist: 4.742971887550201\n"
     ]
    },
    {
     "data": {
      "text/plain": [
       "<AxesSubplot: >"
      ]
     },
     "execution_count": 16,
     "metadata": {},
     "output_type": "execute_result"
    },
    {
     "data": {
      "image/png": "[encoded data removed]",
      "text/plain": [
       "<Figure size 640x480 with 1 Axes>"
      ]
     },
     "metadata": {},
     "output_type": "display_data"
    }
   ],
   "source": [
    "# get artists names\n",
    "artists = df['artist_name'].unique()\n",
    "print(f\"Number of artists: {len(artists)} \\nAverage images per artist: {len(df)/len(artists)}\")\n",
    "# histogram of number of images per artist\n",
    "df['artist_name'].value_counts().hist(bins=10)\n"
   ]
  },
  {
   "cell_type": "code",
   "execution_count": 17,
   "metadata": {},
   "outputs": [],
   "source": [
    "# Save the list of artists\n",
    "with open('hist_artists.txt', 'w') as f:\n",
    "    for item in artists:\n",
    "        f.write(\"%s\\n\" % item)"
   ]
  },
  {
   "attachments": {},
   "cell_type": "markdown",
   "metadata": {},
   "source": [
    "### Get artists' names from the ArtStation"
   ]
  },
  {
   "cell_type": "code",
   "execution_count": null,
   "metadata": {},
   "outputs": [],
   "source": []
  }
 ],
 "metadata": {
  "kernelspec": {
   "display_name": "nlp2",
   "language": "python",
   "name": "python3"
  },
  "language_info": {
   "codemirror_mode": {
    "name": "ipython",
    "version": 3
   },
   "file_extension": ".py",
   "mimetype": "text/x-python",
   "name": "python",
   "nbconvert_exporter": "python",
   "pygments_lexer": "ipython3",
   "version": "3.9.13"
  },
  "orig_nbformat": 4
 },
 "nbformat": 4,
 "nbformat_minor": 2
}
