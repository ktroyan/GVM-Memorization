{
 "cells": [
  {
   "cell_type": "markdown",
   "id": "d447165c",
   "metadata": {},
   "source": [
    "### Make sure to switch to the `generative_models` kernel from above!\n",
    "\n",
    "Depending on your application, different storage requirements may be necessary.\n",
    "\n",
    "- Option 1: `$TMPDIR`: a temp directory created for every job, gets deleted after every job dies. It is created under `/scratch/` on the local machine\n",
    "- Option 2: `/cluster/scratch/<username>`: a private scratch space, a lot of space but files get deleted every 2-3 weeks\n",
    "- Option 3: `/cluster/home/<username>`: never get deleted but limited space."
   ]
  },
  {
   "cell_type": "code",
   "execution_count": null,
   "id": "ec6fe0a4",
   "metadata": {},
   "outputs": [],
   "source": [
    "import torch\n",
    "# make sure that torch version is 2.0.0+cu117\n",
    "print(torch.__version__)\n"
   ]
  },
  {
   "cell_type": "code",
   "execution_count": null,
   "id": "ee4ebb11",
   "metadata": {
    "collapsed": true
   },
   "outputs": [],
   "source": [
    "!pip install diffusers accelerate transformers mediapy triton scipy ftfy spacy==3.4.4"
   ]
  },
  {
   "cell_type": "code",
   "execution_count": null,
   "id": "53e3d7ec",
   "metadata": {},
   "outputs": [],
   "source": [
    "# here we will start with option 1\n",
    "import os\n",
    "\n",
    "BASE_PATH = f\"{os.getenv('TMPDIR')}/generative_models\"\n",
    "\n",
    "if not os.path.exists(BASE_PATH):\n",
    "    os.makedirs(BASE_PATH)"
   ]
  },
  {
   "cell_type": "code",
   "execution_count": null,
   "id": "e498242f",
   "metadata": {},
   "outputs": [],
   "source": [
    "import mediapy as media\n",
    "import torch\n",
    "from diffusers import StableDiffusionPipeline\n",
    "\n",
    "\n",
    "model_id = \"stabilityai/stable-diffusion-2-1\"\n",
    "\n",
    "device = \"cuda\"\n",
    "\n",
    "pipe = StableDiffusionPipeline.from_pretrained(\n",
    "    model_id,\n",
    "    torch_dtype=torch.float16,\n",
    "    revision=None,\n",
    "    cache_dir=BASE_PATH,\n",
    ")\n",
    "pipe.enable_xformers_memory_efficient_attention()\n",
    "\n",
    "pipe = pipe.to(device)\n",
    "\n",
    "image_length = 768"
   ]
  },
  {
   "cell_type": "code",
   "execution_count": null,
   "id": "6599b616",
   "metadata": {},
   "outputs": [],
   "source": [
    "prompt = \"a photo of Pikachu fine dining with a view to the Eiffel Tower\"\n",
    "num_images = 4\n",
    "\n",
    "negative_prompt = None\n",
    "pipe.safety_checker = None\n",
    "\n",
    "with torch.no_grad():\n",
    "    images = pipe(\n",
    "        prompt,\n",
    "        height = image_length,\n",
    "        width = image_length,\n",
    "        num_inference_steps = 25,\n",
    "        guidance_scale = 9,\n",
    "        num_images_per_prompt = num_images,\n",
    "        negative_prompt = negative_prompt,\n",
    "    ).images\n",
    "    \n",
    "media.show_images(images)"
   ]
  },
  {
   "cell_type": "code",
   "execution_count": null,
   "id": "41dea0ca",
   "metadata": {},
   "outputs": [],
   "source": []
  },
  {
   "cell_type": "code",
   "execution_count": null,
   "id": "58f77ad1",
   "metadata": {},
   "outputs": [],
   "source": []
  },
  {
   "cell_type": "code",
   "execution_count": null,
   "id": "6446b3fa",
   "metadata": {},
   "outputs": [],
   "source": []
  }
 ],
 "metadata": {
  "kernelspec": {
   "display_name": "generative_models",
   "language": "python",
   "name": "generative_models"
  },
  "language_info": {
   "codemirror_mode": {
    "name": "ipython",
    "version": 3
   },
   "file_extension": ".py",
   "mimetype": "text/x-python",
   "name": "python",
   "nbconvert_exporter": "python",
   "pygments_lexer": "ipython3",
   "version": "3.10.4"
  }
 },
 "nbformat": 4,
 "nbformat_minor": 5
}
