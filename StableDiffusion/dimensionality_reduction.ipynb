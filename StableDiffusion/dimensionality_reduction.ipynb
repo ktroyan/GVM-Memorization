{
 "cells": [
  {
   "cell_type": "code",
   "execution_count": 10,
   "metadata": {},
   "outputs": [],
   "source": [
    "import numpy as np\n",
    "import os\n",
    "import torch\n",
    "from torchvision import transforms\n",
    "from tqdm import tqdm\n",
    "\n",
    "\n",
    "import PIL\n",
    "\n",
    "import matplotlib.pyplot as plt\n",
    "from sklearn.decomposition import PCA"
   ]
  },
  {
   "cell_type": "code",
   "execution_count": 17,
   "metadata": {},
   "outputs": [],
   "source": [
    "sd_versions = ['1_5','2_1']\n",
    "pretrained_models = ['openai', 'laion2b_s34b_b79k', 'laion400m_s32']\n",
    "embedding_dims = [64, 128, 256]\n",
    "set_names = ['', 'artstation', 'real_images']"
   ]
  },
  {
   "cell_type": "code",
   "execution_count": 18,
   "metadata": {},
   "outputs": [
    {
     "name": "stdout",
     "output_type": "stream",
     "text": [
      "File not found: artstation_sd_1_5_laion400m_s32_ViT-B-32.pt\n",
      "File not found: artstation_sd_2_1_laion400m_s32_ViT-B-32.pt\n"
     ]
    }
   ],
   "source": [
    "for sd_version in sd_versions:\n",
    "    for pretrained_model in pretrained_models:\n",
    "        for set_name in set_names:\n",
    "            path = set_name + '_sd_' + sd_version + '_' + pretrained_model + '_ViT-B-32.pt'\n",
    "            try:\n",
    "                precomputed_tensor = torch.load(path)\n",
    "                for embeddings_dim in embedding_dims:\n",
    "                    pca = PCA(n_components=embeddings_dim)\n",
    "                    pca.fit(precomputed_tensor)\n",
    "                    pca_tensor = pca.transform(precomputed_tensor)\n",
    "                    pca_tensor = torch.from_numpy(pca_tensor)\n",
    "                    torch.save(pca_tensor, './pca_embeddings/'+set_name+'_sd_' + sd_version + '_' + pretrained_model + '_ViT-B-32_pca_' + str(embeddings_dim) + '.pt')\n",
    "            except:\n",
    "                print('File not found: ' + path)\n",
    "                continue"
   ]
  },
  {
   "cell_type": "code",
   "execution_count": null,
   "metadata": {},
   "outputs": [],
   "source": []
  }
 ],
 "metadata": {
  "kernelspec": {
   "display_name": "Python 3",
   "language": "python",
   "name": "python3"
  },
  "language_info": {
   "codemirror_mode": {
    "name": "ipython",
    "version": 3
   },
   "file_extension": ".py",
   "mimetype": "text/x-python",
   "name": "python",
   "nbconvert_exporter": "python",
   "pygments_lexer": "ipython3",
   "version": "3.10.10"
  },
  "orig_nbformat": 4
 },
 "nbformat": 4,
 "nbformat_minor": 2
}
