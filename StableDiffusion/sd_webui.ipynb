{
 "cells": [
  {
   "cell_type": "markdown",
   "id": "d447165c",
   "metadata": {},
   "source": [
    "### Make sure to switch to the `generative_models` kernel from above!\n",
    "\n",
    "Depending on your application, different storage requirements may be necessary.\n",
    "\n",
    "- Option 1: `$TMPDIR`: a temp directory created for every job, gets deleted after every job dies. It is created under `/scratch/` on the local machine\n",
    "- Option 2: `/cluster/scratch/<username>`: a private scratch space, a lot of space but files get deleted every 2-3 weeks\n",
    "- Option 3: `/cluster/home/<username>`: never get deleted but limited space."
   ]
  },
  {
   "cell_type": "code",
   "execution_count": null,
   "id": "ee4ebb11",
   "metadata": {
    "scrolled": true
   },
   "outputs": [],
   "source": [
    "USERNAME=\"sanagnos\""
   ]
  },
  {
   "cell_type": "code",
   "execution_count": null,
   "id": "a7c1a8d2",
   "metadata": {},
   "outputs": [],
   "source": [
    "import subprocess\n",
    "import os\n",
    "\n",
    "command = \"echo $PATH\"  # replace this with your desired command\n",
    "path = subprocess.check_output(command, shell=True, text=True)\n",
    "\n",
    "os.environ['PATH'] = f\"{path[:-1]}:/cluster/home/{USERNAME}/.local/bin\""
   ]
  },
  {
   "cell_type": "code",
   "execution_count": null,
   "id": "53e3d7ec",
   "metadata": {},
   "outputs": [],
   "source": [
    "# here we will start with option 2\n",
    "import os\n",
    "\n",
    "BASE_PATH = f\"/cluster/scratch/{USERNAME}/generative_models/\"\n",
    "\n",
    "if not os.path.exists(BASE_PATH):\n",
    "    os.makedirs(BASE_PATH)"
   ]
  },
  {
   "cell_type": "code",
   "execution_count": null,
   "id": "7091f0b3",
   "metadata": {},
   "outputs": [],
   "source": [
    "fgitclone = \"git clone --depth 1\"\n",
    "\n",
    "!$fgitclone -q --branch master https://github.com/AUTOMATIC1111/stable-diffusion-webui $BASE_PATH/stable-diffusion-webui"
   ]
  },
  {
   "cell_type": "code",
   "execution_count": null,
   "id": "c28f49c0",
   "metadata": {},
   "outputs": [],
   "source": [
    "!wget -q -O $BASE_PATH/stable-diffusion-webui/models/Stable-diffusion/model.ckpt https://huggingface.co/runwayml/stable-diffusion-v1-5/resolve/main/v1-5-pruned-emaonly.ckpt\n",
    "!wget -q -O $BASE_PATH/stable-diffusion-webui/models/Stable-diffusion/v2-1_768-ema-pruned-fp16.yaml https://huggingface.co/webui/stable-diffusion-2-1/raw/main/v2-1_768-ema-pruned-fp16.yaml\n",
    "!wget -q -O $BASE_PATH/stable-diffusion-webui/models/Stable-diffusion/v2-1_768-ema-pruned-fp16.safetensors https://huggingface.co/webui/stable-diffusion-2-1/resolve/main/v2-1_768-ema-pruned-fp16.safetensors"
   ]
  },
  {
   "cell_type": "code",
   "execution_count": null,
   "id": "33363878",
   "metadata": {},
   "outputs": [],
   "source": [
    "command = f\"cd {BASE_PATH}/stable-diffusion-webui/ && python -u launch.py --disable-safe-unpickle --port 7860 --listen --server-name 0.0.0.0 --xformers --share\"\n",
    "\n",
    "os.system(command)\n",
    "\n",
    "# after that you need to forward the corresponding port to your local machine\n",
    "# check reconnect_info for instructions on how to do that"
   ]
  },
  {
   "cell_type": "code",
   "execution_count": null,
   "id": "933438b4",
   "metadata": {},
   "outputs": [],
   "source": []
  }
 ],
 "metadata": {
  "kernelspec": {
   "display_name": "Python 3.11.1 64-bit",
   "language": "python",
   "name": "python3"
  },
  "language_info": {
   "codemirror_mode": {
    "name": "ipython",
    "version": 3
   },
   "file_extension": ".py",
   "mimetype": "text/x-python",
   "name": "python",
   "nbconvert_exporter": "python",
   "pygments_lexer": "ipython3",
   "version": "3.11.1"
  },
  "vscode": {
   "interpreter": {
    "hash": "1a1af0ee75eeea9e2e1ee996c87e7a2b11a0bebd85af04bb136d915cefc0abce"
   }
  }
 },
 "nbformat": 4,
 "nbformat_minor": 5
}
