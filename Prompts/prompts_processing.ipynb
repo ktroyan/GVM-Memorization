{
 "cells": [
  {
   "cell_type": "code",
   "execution_count": 36,
   "metadata": {},
   "outputs": [],
   "source": [
    "\n",
    "import torch\n",
    "\n",
    "import numpy as np\n",
    "import open_clip\n",
    "from open_clip import tokenizer"
   ]
  },
  {
   "cell_type": "code",
   "execution_count": 37,
   "metadata": {},
   "outputs": [],
   "source": [
    "path2text = './general.txt'\n",
    "\n",
    "prompts_list = []\n",
    "\n",
    "with open(path2text, 'r') as f:\n",
    "    for line in f:\n",
    "        prompts_list.append(line.strip())\n"
   ]
  },
  {
   "cell_type": "code",
   "execution_count": 38,
   "metadata": {},
   "outputs": [
    {
     "name": "stdout",
     "output_type": "stream",
     "text": [
      "['A futuristic cityscape with flying cars, neon lights, and towering skyscrapers.', 'A mystical forest with a majestic unicorn standing in a clearing, surrounded by glowing flowers.', 'A vibrant underwater world with colorful coral reefs, schools of tropical fish, and a mermaid swimming by.', 'An otherworldly landscape with floating islands, strange rock formations, and a massive portal in the sky.', 'A bustling market in a foreign city, filled with exotic spices, fruits, and handcrafted goods.', 'A dramatic space battle between a fleet of starships and a massive alien mothership, with laser beams and explosions lighting up the scene.', 'A serene mountain landscape with a tranquil lake, towering pine trees, and a small cabin nestled in the woods.', 'A romantic scene with a couple dancing in a moonlit garden, surrounded by blooming flowers and twinkling stars.', 'A post-apocalyptic wasteland with ruins of buildings, abandoned vehicles, and survivors scavenging for resources.', 'A glamorous red carpet event with celebrities posing for the paparazzi, flashing cameras, and designer dresses on display.']\n"
     ]
    }
   ],
   "source": [
    "print(prompts_list[:10])"
   ]
  },
  {
   "cell_type": "code",
   "execution_count": 39,
   "metadata": {},
   "outputs": [],
   "source": [
    "model, _, preprocess = open_clip.create_model_and_transforms('ViT-B-32', pretrained='openai', )"
   ]
  },
  {
   "cell_type": "code",
   "execution_count": 40,
   "metadata": {},
   "outputs": [],
   "source": [
    "text_tokens = tokenizer.tokenize(prompts_list)\n",
    "with torch.no_grad():\n",
    "    text_features = model.encode_text(text_tokens).float()"
   ]
  },
  {
   "cell_type": "code",
   "execution_count": 69,
   "metadata": {},
   "outputs": [
    {
     "name": "stdout",
     "output_type": "stream",
     "text": [
      "A futuristic cityscape with flying cars, neon lights, and towering skyscrapers.\n",
      "A futuristic cityscape scene with sleek skyscrapers, flying cars, and neon lights.\n"
     ]
    }
   ],
   "source": [
    "\n",
    "# comput cosine similarity\n",
    "cos_sim = np.dot(text_features, text_features.T) / (np.linalg.norm(text_features, axis=1)[:, None] * np.linalg.norm(text_features, axis=1)[None, :])\n",
    "# delete the diagonal entries from the matrix\n",
    "for i in range(len(cos_sim)):\n",
    "    cos_sim[i][i] = 1.0\n",
    "\n",
    "# find the closest text prompts using cosine similarity\n",
    "top_k = 2\n",
    "closest_ids = cos_sim.argsort(axis=1)[:, -top_k:][:, ::-1]\n",
    "\n",
    "for prompt, closest_id in zip(prompts_list, closest_ids):\n",
    "    print(prompt)\n",
    "    for idx in closest_id[1:]: # exclude the first one, which is the prompt itself\n",
    "        print(prompts_list[idx])\n",
    "    break"
   ]
  },
  {
   "cell_type": "code",
   "execution_count": 83,
   "metadata": {},
   "outputs": [
    {
     "name": "stdout",
     "output_type": "stream",
     "text": [
      "[110, 136, 130, 55, 52, 65, 112, 42, 75, 15]\n"
     ]
    },
    {
     "name": "stderr",
     "output_type": "stream",
     "text": [
      "/Users/mrpositron/opt/anaconda3/envs/res/lib/python3.8/site-packages/sklearn/cluster/_kmeans.py:870: FutureWarning: The default value of `n_init` will change from 10 to 'auto' in 1.4. Set the value of `n_init` explicitly to suppress the warning\n",
      "  warnings.warn(\n"
     ]
    }
   ],
   "source": [
    "from sklearn.cluster import KMeans\n",
    "\n",
    "k = 10\n",
    "\n",
    "kmeans = KMeans(n_clusters=k, init='k-means++', random_state=33)\n",
    "kmeans.fit(cos_sim)\n",
    "\n",
    "centroids = kmeans.cluster_centers_\n",
    "\n",
    "k_points = []\n",
    "for i in range(k):\n",
    "    cluster_indices = np.where(kmeans.labels_ == i)[0]\n",
    "    closest_point = cluster_indices[np.argmin(cos_sim[cluster_indices][:, cluster_indices].sum(axis=0))]\n",
    "    k_points.append(closest_point)\n",
    "\n",
    "print(k_points)"
   ]
  },
  {
   "cell_type": "code",
   "execution_count": 85,
   "metadata": {},
   "outputs": [
    {
     "name": "stdout",
     "output_type": "stream",
     "text": [
      "A mystical and enchanting scene of a mermaid underwater, surrounded by colorful fish and coral reefs.\n",
      "A mysterious and intriguing scene of an abandoned library with dusty books, ancient scrolls, and hidden secrets.\n",
      "A romantic and whimsical scene of a couple dancing under the stars on a fairy tale-inspired balcony.\n",
      "A whimsical and colorful underwater coral reef scene with vibrant fish, seahorses, and other marine creatures.\n",
      "A dark and moody forest scene with gnarled trees, misty fog, and eerie shadows lurking between the trunks.\n",
      "A whimsical and colorful candy land scene with candy canes, lollipops, and gumdrops as far as the eye can see.\n",
      "A bustling and vibrant scene of a street market in Tokyo, Japan, with neon lights and street food vendors.\n",
      "A tranquil space scene with a spaceship orbiting a planet, shooting stars, and a constellation of stars in the distance.\n",
      "A spooky and eerie abandoned hospital scene with flickering lights, medical equipment, and ghostly apparitions.\n",
      "A romantic scene with a couple sitting on a park bench, surrounded by autumn leaves and a beautiful sunset.\n"
     ]
    }
   ],
   "source": [
    "# Most dissimilar prompts\n",
    "\n",
    "for idx in k_points:\n",
    "    print(prompts_list[idx])"
   ]
  },
  {
   "cell_type": "code",
   "execution_count": null,
   "metadata": {},
   "outputs": [],
   "source": []
  }
 ],
 "metadata": {
  "kernelspec": {
   "display_name": "res",
   "language": "python",
   "name": "python3"
  },
  "language_info": {
   "codemirror_mode": {
    "name": "ipython",
    "version": 3
   },
   "file_extension": ".py",
   "mimetype": "text/x-python",
   "name": "python",
   "nbconvert_exporter": "python",
   "pygments_lexer": "ipython3",
   "version": "3.8.16"
  },
  "orig_nbformat": 4
 },
 "nbformat": 4,
 "nbformat_minor": 2
}
